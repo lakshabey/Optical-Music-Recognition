{
  "nbformat": 4,
  "nbformat_minor": 0,
  "metadata": {
    "colab": {
      "name": "Optical Music Recognition - Model Building.ipynb",
      "provenance": [],
      "collapsed_sections": [
        "fq2cWpVW3qf_"
      ]
    },
    "kernelspec": {
      "name": "python3",
      "display_name": "Python 3"
    },
    "language_info": {
      "name": "python"
    },
    "accelerator": "GPU"
  },
  "cells": [
    {
      "cell_type": "markdown",
      "source": [
        ""
      ],
      "metadata": {
        "id": "gZcG6j5IYi6r"
      }
    },
    {
      "cell_type": "markdown",
      "source": [
        "# The Dataset\n",
        "\n",
        "https://github.com/apacha/MusicSymbolClassifier\n"
      ],
      "metadata": {
        "id": "qYscIjN4dsAG"
      }
    },
    {
      "cell_type": "markdown",
      "source": [
        "Download the Dataset"
      ],
      "metadata": {
        "id": "rtkolfFP_Uqv"
      }
    },
    {
      "cell_type": "code",
      "source": [
        "! pip install omrdatasettools"
      ],
      "metadata": {
        "colab": {
          "base_uri": "https://localhost:8080/"
        },
        "id": "3gCXZxtK_ff6",
        "outputId": "83945aef-4b68-4770-c681-4758c1aa94d6"
      },
      "execution_count": null,
      "outputs": [
        {
          "output_type": "stream",
          "name": "stdout",
          "text": [
            "Collecting omrdatasettools\n",
            "  Downloading omrdatasettools-1.3.1.tar.gz (42 kB)\n",
            "\u001b[K     |████████████████████████████████| 42 kB 651 kB/s \n",
            "\u001b[?25hRequirement already satisfied: Pillow in /usr/local/lib/python3.7/dist-packages (from omrdatasettools) (7.1.2)\n",
            "Collecting muscima\n",
            "  Downloading muscima-0.10.0.tar.gz (105 kB)\n",
            "\u001b[K     |████████████████████████████████| 105 kB 8.5 MB/s \n",
            "\u001b[?25hCollecting mung\n",
            "  Downloading mung-1.1.tar.gz (112 kB)\n",
            "\u001b[K     |████████████████████████████████| 112 kB 39.5 MB/s \n",
            "\u001b[?25hRequirement already satisfied: numpy in /usr/local/lib/python3.7/dist-packages (from omrdatasettools) (1.21.5)\n",
            "Requirement already satisfied: tqdm in /usr/local/lib/python3.7/dist-packages (from omrdatasettools) (4.63.0)\n",
            "Requirement already satisfied: scikit-image in /usr/local/lib/python3.7/dist-packages (from omrdatasettools) (0.18.3)\n",
            "Requirement already satisfied: lxml in /usr/local/lib/python3.7/dist-packages (from omrdatasettools) (4.2.6)\n",
            "Requirement already satisfied: imageio>=2.3.0 in /usr/local/lib/python3.7/dist-packages (from scikit-image->omrdatasettools) (2.4.1)\n",
            "Requirement already satisfied: networkx>=2.0 in /usr/local/lib/python3.7/dist-packages (from scikit-image->omrdatasettools) (2.6.3)\n",
            "Requirement already satisfied: matplotlib!=3.0.0,>=2.0.0 in /usr/local/lib/python3.7/dist-packages (from scikit-image->omrdatasettools) (3.2.2)\n",
            "Requirement already satisfied: scipy>=1.0.1 in /usr/local/lib/python3.7/dist-packages (from scikit-image->omrdatasettools) (1.4.1)\n",
            "Requirement already satisfied: PyWavelets>=1.1.1 in /usr/local/lib/python3.7/dist-packages (from scikit-image->omrdatasettools) (1.2.0)\n",
            "Requirement already satisfied: tifffile>=2019.7.26 in /usr/local/lib/python3.7/dist-packages (from scikit-image->omrdatasettools) (2021.11.2)\n",
            "Requirement already satisfied: kiwisolver>=1.0.1 in /usr/local/lib/python3.7/dist-packages (from matplotlib!=3.0.0,>=2.0.0->scikit-image->omrdatasettools) (1.3.2)\n",
            "Requirement already satisfied: python-dateutil>=2.1 in /usr/local/lib/python3.7/dist-packages (from matplotlib!=3.0.0,>=2.0.0->scikit-image->omrdatasettools) (2.8.2)\n",
            "Requirement already satisfied: pyparsing!=2.0.4,!=2.1.2,!=2.1.6,>=2.0.1 in /usr/local/lib/python3.7/dist-packages (from matplotlib!=3.0.0,>=2.0.0->scikit-image->omrdatasettools) (3.0.7)\n",
            "Requirement already satisfied: cycler>=0.10 in /usr/local/lib/python3.7/dist-packages (from matplotlib!=3.0.0,>=2.0.0->scikit-image->omrdatasettools) (0.11.0)\n",
            "Requirement already satisfied: six>=1.5 in /usr/local/lib/python3.7/dist-packages (from python-dateutil>=2.1->matplotlib!=3.0.0,>=2.0.0->scikit-image->omrdatasettools) (1.15.0)\n",
            "Building wheels for collected packages: omrdatasettools, mung, muscima\n",
            "  Building wheel for omrdatasettools (setup.py) ... \u001b[?25l\u001b[?25hdone\n",
            "  Created wheel for omrdatasettools: filename=omrdatasettools-1.3.1-py3-none-any.whl size=40702 sha256=073377ea5849367e7b5ecac459844a1109ff7c7ff4e9ad0dad94f2db9451ffc3\n",
            "  Stored in directory: /root/.cache/pip/wheels/b9/16/bc/a845a04b4ec02f9b7dec53bc842aef736721f750d7b1306e8b\n",
            "  Building wheel for mung (setup.py) ... \u001b[?25l\u001b[?25hdone\n",
            "  Created wheel for mung: filename=mung-1.1-py3-none-any.whl size=122605 sha256=41982898ecda7eb3468d5dcdf8057c2fc0dab4f853cde102ead07bfc4e3511e5\n",
            "  Stored in directory: /root/.cache/pip/wheels/35/c2/c2/1cc7611e63ac003c3e2ce5147e25dd9bcbc1b4480909a3fbe6\n",
            "  Building wheel for muscima (setup.py) ... \u001b[?25l\u001b[?25hdone\n",
            "  Created wheel for muscima: filename=muscima-0.10.0-py3-none-any.whl size=116528 sha256=676b8288feb81b508cf6ac418d117e6004d0ca5d7cea8ea5ac31c55898fa3404\n",
            "  Stored in directory: /root/.cache/pip/wheels/68/74/ab/ffb38aed8fdbee6a7fd00e439d33e80815c5ecc52953bcb092\n",
            "Successfully built omrdatasettools mung muscima\n",
            "Installing collected packages: muscima, mung, omrdatasettools\n",
            "Successfully installed mung-1.1 muscima-0.10.0 omrdatasettools-1.3.1\n"
          ]
        }
      ]
    },
    {
      "cell_type": "code",
      "source": [
        "from omrdatasettools import Downloader, OmrDataset\n",
        "\n",
        "downloader = Downloader()\n",
        "downloader.download_and_extract_dataset(OmrDataset.Rebelo1, \"dataset\")\n",
        "downloader.download_and_extract_dataset(OmrDataset.Rebelo2, \"dataset\")"
      ],
      "metadata": {
        "colab": {
          "base_uri": "https://localhost:8080/"
        },
        "id": "sfCwaH1vD9RM",
        "outputId": "38c1c254-14ff-413d-91a8-9365444ece7e"
      },
      "execution_count": null,
      "outputs": [
        {
          "output_type": "stream",
          "name": "stdout",
          "text": [
            "Downloading Rebelo1 dataset...\n",
            "Downloading: https://github.com/apacha/OMR-Datasets/releases/download/datasets/Rebelo-Music-Symbol-Dataset1.zip Bytes: 2762705 into /content/Rebelo-Music-Symbol-Dataset1.zip\n"
          ]
        },
        {
          "output_type": "stream",
          "name": "stderr",
          "text": [
            "Downloading (bytes): 100%|██████████| 2762705/2762705 [00:00<00:00, 42232800.48it/s]"
          ]
        },
        {
          "output_type": "stream",
          "name": "stdout",
          "text": [
            "\n",
            "Extracting Rebelo1 dataset...\n"
          ]
        },
        {
          "output_type": "stream",
          "name": "stderr",
          "text": [
            "\n"
          ]
        },
        {
          "output_type": "stream",
          "name": "stdout",
          "text": [
            "Downloading Rebelo2 dataset...\n",
            "Downloading: https://github.com/apacha/OMR-Datasets/releases/download/datasets/Rebelo-Music-Symbol-Dataset2.zip Bytes: 3651514 into /content/Rebelo-Music-Symbol-Dataset2.zip\n"
          ]
        },
        {
          "output_type": "stream",
          "name": "stderr",
          "text": [
            "Downloading (bytes): 100%|██████████| 3651514/3651514 [00:00<00:00, 47576113.64it/s]"
          ]
        },
        {
          "output_type": "stream",
          "name": "stdout",
          "text": [
            "\n",
            "Extracting Rebelo2 dataset...\n"
          ]
        },
        {
          "output_type": "stream",
          "name": "stderr",
          "text": [
            "\n"
          ]
        }
      ]
    },
    {
      "cell_type": "code",
      "source": [
        ""
      ],
      "metadata": {
        "id": "vx44b2pq_e8c"
      },
      "execution_count": null,
      "outputs": []
    },
    {
      "cell_type": "markdown",
      "source": [
        "# Non CNN Approach"
      ],
      "metadata": {
        "id": "fq2cWpVW3qf_"
      }
    },
    {
      "cell_type": "code",
      "execution_count": null,
      "metadata": {
        "id": "HODNvUXPnCLk"
      },
      "outputs": [],
      "source": [
        "import cv2\n",
        "import random\n",
        "import imutils\n",
        "from glob import glob\n",
        "from sklearn.model_selection import train_test_split\n",
        "from sklearn.neighbors import KNeighborsClassifier\n",
        "from sklearn.neural_network import MLPClassifier\n",
        "from sklearn import svm\n",
        "import numpy as np\n",
        "import matplotlib.pyplot as plt\n",
        "import pickle"
      ]
    },
    {
      "cell_type": "code",
      "source": [
        "from google.colab import drive\n",
        "drive.mount('/content/drive')"
      ],
      "metadata": {
        "id": "HkJlcGllzaLu"
      },
      "execution_count": null,
      "outputs": []
    },
    {
      "cell_type": "code",
      "source": [
        "# The Image Dimensions and Path of the Training Data\n",
        "dataset_path = 'train_data/data'\n",
        "target_img_size = (100, 100)\n",
        "sample_count = 50"
      ],
      "metadata": {
        "id": "bw7o5j0epNXS"
      },
      "execution_count": null,
      "outputs": []
    },
    {
      "cell_type": "markdown",
      "source": [
        "### Feature Extraction"
      ],
      "metadata": {
        "id": "b5TCTJY64HGZ"
      }
    },
    {
      "cell_type": "code",
      "source": [
        "# Extract the pixels from the image by flattening the image. Ex:- (100, 100, 3) => (30000, )\n",
        "def extract_raw_pixels(img):\n",
        "    resized = cv2.resize(img, target_img_size)\n",
        "    return resized.flatten()"
      ],
      "metadata": {
        "id": "wXAyN-DbpNt3"
      },
      "execution_count": null,
      "outputs": []
    },
    {
      "cell_type": "code",
      "source": [
        "# Obtain the HSV Histogram from the Music Sheet Image\n",
        "def extract_hsv_histogram(img):\n",
        "    resized = cv2.resize(img, target_img_size)\n",
        "    hsv = cv2.cvtColor(resized, cv2.COLOR_BGR2HSV)\n",
        "    hist = cv2.calcHist([hsv], [0, 1, 2], None, [8, 8, 8],\n",
        "                        [0, 180, 0, 256, 0, 256])\n",
        "    if imutils.is_cv2():\n",
        "        hist = cv2.normalize(hist)\n",
        "    else:\n",
        "        cv2.normalize(hist, hist)\n",
        "    return hist.flatten()"
      ],
      "metadata": {
        "id": "GTOlxLhgpWu-"
      },
      "execution_count": null,
      "outputs": []
    },
    {
      "cell_type": "code",
      "source": [
        "# Extract the Hog Features from the Image\n",
        "def extract_hog_features(img):\n",
        "    img = cv2.resize(img, target_img_size)\n",
        "    win_size = (100, 100)\n",
        "    cell_size = (4, 4)\n",
        "    block_size_in_cells = (2, 2)\n",
        "\n",
        "    block_size = (block_size_in_cells[1] * cell_size[1],\n",
        "                  block_size_in_cells[0] * cell_size[0])\n",
        "    block_stride = (cell_size[1], cell_size[0])\n",
        "    nbins = 9  # Number of orientation bins\n",
        "    hog = cv2.HOGDescriptor(win_size, block_size,\n",
        "                            block_stride, cell_size, nbins)\n",
        "    h = hog.compute(img)\n",
        "    h = h.flatten()\n",
        "    return h.flatten()"
      ],
      "metadata": {
        "id": "0Br_tql1pYqo"
      },
      "execution_count": null,
      "outputs": []
    },
    {
      "cell_type": "code",
      "source": [
        "# Extract Features from the Image. This function in turn uses one of the following: Raw (Pixels Only), HSV Histogram or HOG Features (Histogram of Oriented Gradients)\n",
        "def extract_features(img, feature_set='raw'):\n",
        "    if feature_set == 'hog':\n",
        "        return extract_hog_features(img)\n",
        "    elif feature_set == 'raw':\n",
        "        return extract_raw_pixels(img)\n",
        "    else:\n",
        "        return extract_hsv_histogram(img)"
      ],
      "metadata": {
        "id": "MGHx0vDWpVP4"
      },
      "execution_count": null,
      "outputs": []
    },
    {
      "cell_type": "markdown",
      "source": [
        "### Load Dataset"
      ],
      "metadata": {
        "id": "Zo130csr4KcK"
      }
    },
    {
      "cell_type": "code",
      "source": [
        "# Load the dataset to train and build the model.\n",
        "def load_dataset(feature_set='raw', dir_names=[]):\n",
        "    features = []\n",
        "    labels = []\n",
        "    count = 0\n",
        "    for dir_name in dir_names:\n",
        "        print(dir_name)\n",
        "        imgs = glob(f'{dataset_path}/{dir_name}/*.png')\n",
        "        count += len(imgs)\n",
        "        subset = random.sample([i for i in range(len(imgs))], min(len(imgs), sample_count))\n",
        "        for i in subset:\n",
        "            img = cv2.imread(imgs[i])\n",
        "            labels.append(dir_name)\n",
        "            features.append(extract_features(img, feature_set))\n",
        "    print(f'Total: {len(dir_names)} directories, and {count} images')\n",
        "    return features, labels"
      ],
      "metadata": {
        "id": "mdPWYUQTpb0A"
      },
      "execution_count": null,
      "outputs": []
    },
    {
      "cell_type": "markdown",
      "source": [
        "### Model Building"
      ],
      "metadata": {
        "id": "lJ-PNx4V4Me5"
      }
    },
    {
      "cell_type": "code",
      "source": [
        "# Load the Classifiers that can be used to build the model\n",
        "# The following classifiers were experimented with:\n",
        "# 1. Support Vector Machine\n",
        "# 2. K-Nearest Neighbor\n",
        "# 3. Multi Layer Perceptron - NN\n",
        "def load_classifiers():\n",
        "    random_seed = 42\n",
        "    random.seed(random_seed)\n",
        "    np.random.seed(random_seed)\n",
        "\n",
        "    classifiers = {\n",
        "        'SVM': svm.LinearSVC(random_state=random_seed),\n",
        "        'KNN': KNeighborsClassifier(n_neighbors=7),\n",
        "        'NN': MLPClassifier(activation='relu', hidden_layer_sizes=(200,),\n",
        "                            max_iter=10000, alpha=1e-4,\n",
        "                            solver='adam', verbose=20,\n",
        "                            tol=1e-8, random_state=1,\n",
        "                            learning_rate_init=.0001,\n",
        "                            learning_rate='adaptive')\n",
        "    }\n",
        "    return classifiers, random_seed"
      ],
      "metadata": {
        "id": "o3qLsGFZpeYl"
      },
      "execution_count": null,
      "outputs": []
    },
    {
      "cell_type": "code",
      "source": [
        "# Run Experiment(s) to build model using the chosen classifiers\n",
        "def run_experiment(classifier='SVM', feature_set='hog', dir_names=[]):\n",
        "    print('Loading dataset. This will take time ...')\n",
        "    features, labels = load_dataset(feature_set, dir_names)\n",
        "    print('Finished loading dataset.')\n",
        "\n",
        "    classifiers, random_seed = load_classifiers()\n",
        "\n",
        "    train_features, test_features, train_labels, test_labels = train_test_split(\n",
        "        features, labels, test_size=0.2, random_state=random_seed)\n",
        "\n",
        "    model = classifiers[classifier]\n",
        "    print('############## Training', classifier, \"##############\")\n",
        "    model.fit(train_features, train_labels)\n",
        "    accuracy = model.score(test_features, test_labels)\n",
        "    print(classifier, 'accuracy:', accuracy*100, '%')\n",
        "\n",
        "    return model, accuracy"
      ],
      "metadata": {
        "id": "xVzY4YrCpg2k"
      },
      "execution_count": null,
      "outputs": []
    },
    {
      "cell_type": "code",
      "source": [
        "# Method to initiate the model training\n",
        "def train(model_name, feature_name, saved_model_name):\n",
        "    dir_names = [path.split('/')[2] for path in glob(f'{dataset_path}/*')]\n",
        "\n",
        "    model, accuracy = run_experiment(model_name, feature_name, dir_names)\n",
        "\n",
        "    filename = f'trained_models/{saved_model_name}.sav'\n",
        "    pickle.dump(model, open(filename, 'wb'))\n",
        "\n",
        "\n",
        "if __name__ == \"__main__\":\n",
        "    train('NN', 'hog', 'nn_trained_model_hog')"
      ],
      "metadata": {
        "id": "ilbFw_Abpi57"
      },
      "execution_count": null,
      "outputs": []
    },
    {
      "cell_type": "markdown",
      "source": [
        "# Convolutional Neural Network Approach"
      ],
      "metadata": {
        "id": "Pt5BDL3g3nh1"
      }
    },
    {
      "cell_type": "code",
      "source": [
        "# CNN Training Approach using Keras\n",
        "from keras import applications\n",
        "from keras.preprocessing.image import ImageDataGenerator\n",
        "from keras import optimizers\n",
        "from keras.models import Sequential, Model\n",
        "from keras.layers import Dense, GlobalAveragePooling2D\n",
        "from keras.layers import Activation, Dropout, Flatten, Dense\n",
        "from keras import backend as K\n",
        "import tensorflow as tf\n",
        "import cv2\n",
        "import numpy as np\n",
        "from sklearn.metrics import accuracy_score, classification_report\n",
        "from sklearn.model_selection import train_test_split\n",
        "from glob import glob\n",
        "import os"
      ],
      "metadata": {
        "id": "DIR5i4qxxlEm"
      },
      "execution_count": null,
      "outputs": []
    },
    {
      "cell_type": "code",
      "source": [
        "from google.colab import drive\n",
        "drive.mount('/content/drive')"
      ],
      "metadata": {
        "id": "ExbU6zKO3uNJ",
        "colab": {
          "base_uri": "https://localhost:8080/"
        },
        "outputId": "a4bf918d-e638-48b2-c54c-1b9aeae8bad6"
      },
      "execution_count": null,
      "outputs": [
        {
          "output_type": "stream",
          "name": "stdout",
          "text": [
            "Mounted at /content/drive\n"
          ]
        }
      ]
    },
    {
      "cell_type": "code",
      "source": [
        "# The Image Dimensions and Path of the Training Data\n",
        "dataset_path = 'dataset'\n",
        "target_img_size = (32, 32)\n",
        "# sample_count = 50"
      ],
      "metadata": {
        "id": "0ko6Xmld3v0H"
      },
      "execution_count": null,
      "outputs": []
    },
    {
      "cell_type": "markdown",
      "source": [
        "### Load Dataset"
      ],
      "metadata": {
        "id": "9-rbyXxQ2Q-0"
      }
    },
    {
      "cell_type": "code",
      "source": [
        "# Load Images for CNN Building\n",
        "dir_names=[]\n",
        "for path in glob(f'{dataset_path}/*'):\n",
        "  dir_names.append(path.split('/')[1])\n",
        "\n",
        "labels=[]\n",
        "images=[]\n",
        "\n",
        "for dir_name in dir_names:\n",
        "  print(dir_name)\n",
        "\n",
        "  imgs = glob(f'{dataset_path}/{dir_name}/*.png')\n",
        "  # count += len(imgs)\n",
        "  # subset = random.sample([i for i in range(len(imgs))], min(len(imgs), sample_count))\n",
        "  for img in imgs:\n",
        "    img = cv2.imread(img)\n",
        "    img = cv2.resize(img, target_img_size, interpolation = cv2.INTER_AREA)\n",
        "    labels.append(dir_name)\n",
        "    images.append(img)"
      ],
      "metadata": {
        "colab": {
          "base_uri": "https://localhost:8080/"
        },
        "id": "73GNZ1keBH5N",
        "outputId": "2a0229b7-45dc-4349-b6aa-4342e615811d"
      },
      "execution_count": null,
      "outputs": [
        {
          "output_type": "stream",
          "name": "stdout",
          "text": [
            "Thirty-Two-Rest\n",
            "Sixteenth-Note\n",
            "Dot\n",
            "Cut-Time\n",
            "Quarter-Note\n",
            "Stopped\n",
            "Fermata\n",
            "4-8-Time\n",
            "7-4-Time\n",
            "Sharp\n",
            "Whole-Half-Rest\n",
            "9-8-Time\n",
            "Thirty-Two-Note\n",
            "8-8-Time\n",
            "2-4-Time\n",
            "Staccatissimo\n",
            "C-Clef\n",
            "G-Clef\n",
            "Turn\n",
            "Half-Note\n",
            "12-8-Time\n",
            "Double-Whole-Rest\n",
            "Quarter-Rest\n",
            "Multiple-Quarter-Notes\n",
            "Other\n",
            "Eighth-Rest\n",
            "6-4-Time\n",
            "Chord\n",
            "5-8-Time\n",
            "Tie-Slur\n",
            "Whole-Note\n",
            "4-2-Time\n",
            "2-8-Time\n",
            "Mordent\n",
            "Flat\n",
            "Eighth-Note\n",
            "Natural\n",
            "Barline\n",
            "3-4-Time\n",
            "Accent\n",
            "Tenuto\n",
            "Tuplet\n",
            "Eighth-Grace-Note\n",
            "Glissando\n",
            "Common-Time\n",
            "5-4-Time\n",
            "Multiple-Half-Notes\n",
            "F-Clef\n",
            "Sixteenth-Rest\n",
            "Multiple-Sixteenth-Notes\n",
            "Beam\n",
            "4-4-Time\n",
            "3-8-Time\n",
            "Multiple-Eighth-Notes\n",
            "Sixty-Four-Note\n",
            "6-8-Time\n",
            "Sixty-Four-Rest\n",
            "Marcato\n",
            "Breve\n",
            "1-8-Time\n"
          ]
        }
      ]
    },
    {
      "cell_type": "code",
      "source": [
        "# Print Statistics Per Class\n",
        "from collections import Counter\n",
        "print(Counter(labels).keys()) # equals to list(set(words))\n",
        "print(Counter(labels).values()) # counts the elements' frequency\n",
        "print(len(Counter(labels).keys()))"
      ],
      "metadata": {
        "colab": {
          "base_uri": "https://localhost:8080/"
        },
        "id": "ZSN58mSqCn1W",
        "outputId": "ae25ef7f-e725-4d91-ef5b-bbf2a10679d7"
      },
      "execution_count": null,
      "outputs": [
        {
          "output_type": "stream",
          "name": "stdout",
          "text": [
            "dict_keys(['Thirty-Two-Rest', 'Sixteenth-Note', 'Dot', 'Cut-Time', 'Quarter-Note', 'Stopped', 'Fermata', '4-8-Time', '7-4-Time', 'Sharp', 'Whole-Half-Rest', '9-8-Time', 'Thirty-Two-Note', '8-8-Time', '2-4-Time', 'Staccatissimo', 'C-Clef', 'G-Clef', 'Turn', 'Half-Note', '12-8-Time', 'Double-Whole-Rest', 'Quarter-Rest', 'Multiple-Quarter-Notes', 'Other', 'Eighth-Rest', '6-4-Time', 'Chord', '5-8-Time', 'Tie-Slur', 'Whole-Note', '4-2-Time', '2-8-Time', 'Mordent', 'Flat', 'Eighth-Note', 'Natural', 'Barline', '3-4-Time', 'Accent', 'Tenuto', 'Tuplet', 'Eighth-Grace-Note', 'Glissando', 'Common-Time', '5-4-Time', 'Multiple-Half-Notes', 'F-Clef', 'Sixteenth-Rest', 'Multiple-Sixteenth-Notes', 'Beam', '4-4-Time', '3-8-Time', 'Multiple-Eighth-Notes', 'Sixty-Four-Note', '6-8-Time', 'Sixty-Four-Rest', 'Marcato', 'Breve', '1-8-Time'])\n",
            "dict_values([227, 42, 440, 228, 913, 85, 102, 1, 9, 1193, 123, 5, 142, 6, 40, 116, 339, 810, 81, 673, 2, 106, 589, 243, 802, 705, 4, 118, 13, 466, 275, 6, 12, 86, 972, 458, 1095, 47, 82, 420, 92, 73, 14, 95, 255, 14, 25, 299, 324, 85, 1351, 19, 27, 96, 75, 20, 137, 78, 26, 2])\n",
            "60\n"
          ]
        }
      ]
    },
    {
      "cell_type": "code",
      "source": [
        "# One Hot Encode Labels\n",
        "from sklearn.preprocessing import LabelBinarizer\n",
        "encoder = LabelBinarizer()\n",
        "transfomed_label = encoder.fit_transform(labels)\n",
        "print(transfomed_label)"
      ],
      "metadata": {
        "colab": {
          "base_uri": "https://localhost:8080/"
        },
        "id": "UAReQ44FDw4J",
        "outputId": "298235f0-9b93-47b4-fe0d-26de36444e25"
      },
      "execution_count": null,
      "outputs": [
        {
          "output_type": "stream",
          "name": "stdout",
          "text": [
            "[[0 0 0 ... 0 0 0]\n",
            " [0 0 0 ... 0 0 0]\n",
            " [0 0 0 ... 0 0 0]\n",
            " ...\n",
            " [0 0 0 ... 0 0 0]\n",
            " [1 0 0 ... 0 0 0]\n",
            " [1 0 0 ... 0 0 0]]\n"
          ]
        }
      ]
    },
    {
      "cell_type": "code",
      "source": [
        "print(encoder.inverse_transform(transfomed_label))"
      ],
      "metadata": {
        "colab": {
          "base_uri": "https://localhost:8080/"
        },
        "id": "URaASAYLQyJr",
        "outputId": "3899dc4b-eb9c-4b25-c494-d5dc2b249af3"
      },
      "execution_count": null,
      "outputs": [
        {
          "output_type": "stream",
          "name": "stdout",
          "text": [
            "['Thirty-Two-Rest' 'Thirty-Two-Rest' 'Thirty-Two-Rest' ... 'Breve'\n",
            " '1-8-Time' '1-8-Time']\n"
          ]
        }
      ]
    },
    {
      "cell_type": "code",
      "source": [
        "# Split Data into Train and Test\n",
        "X_train, X_test, y_train, y_test = train_test_split(images, transfomed_label, test_size=0.2, random_state=42)"
      ],
      "metadata": {
        "id": "mRkgdPVF1tgp"
      },
      "execution_count": null,
      "outputs": []
    },
    {
      "cell_type": "code",
      "source": [
        "# Convert the Train and test into Numpy Arrays\n",
        "X_train=np.asarray(X_train).astype('float32')\n",
        "X_test=np.asarray(X_test).astype('float32')\n",
        "# y_train=np.asarray(y_train).astype('float32')\n",
        "# y_test=np.asarray(y_test).astype('float32')"
      ],
      "metadata": {
        "id": "caaiWh3x1w1g"
      },
      "execution_count": null,
      "outputs": []
    },
    {
      "cell_type": "code",
      "source": [
        "# Scale Images Between 0 and 1 (Standardization)\n",
        "X_train=X_train/255.0\n",
        "X_test=X_test/255.0"
      ],
      "metadata": {
        "id": "RltzyPtf19Nr"
      },
      "execution_count": null,
      "outputs": []
    },
    {
      "cell_type": "markdown",
      "source": [
        "### Model Building"
      ],
      "metadata": {
        "id": "wg8GSxIP2OfT"
      }
    },
    {
      "cell_type": "markdown",
      "source": [
        "#### VGG16"
      ],
      "metadata": {
        "id": "FlkVvdTK2TEx"
      }
    },
    {
      "cell_type": "code",
      "source": [
        "# VGG16 with pretrained weights\n",
        "vgg16 = tf.keras.applications.VGG16(weights='imagenet',include_top=False,input_shape=(32,32,3))\n",
        "# add a global spatial average pooling layer\n",
        "x = vgg16.output\n",
        "x = tf.keras.layers.GlobalAveragePooling2D()(x)\n",
        "# add a fully-connected layer\n",
        "x = tf.keras.layers.Dense(512, activation='relu')(x) \n",
        "# and a fully connected output/classification layer\n",
        "predictions = tf.keras.layers.Dense(60, activation='softmax')(x)\n",
        "# create the full network so we can train on it\n",
        "vgg16 = Model(inputs=vgg16.input, outputs=predictions)"
      ],
      "metadata": {
        "id": "FtFAbo9ZzYUP",
        "colab": {
          "base_uri": "https://localhost:8080/"
        },
        "outputId": "dddfdba5-1fbf-4788-bd7c-07cd92428163"
      },
      "execution_count": null,
      "outputs": [
        {
          "output_type": "stream",
          "name": "stdout",
          "text": [
            "Downloading data from https://storage.googleapis.com/tensorflow/keras-applications/vgg16/vgg16_weights_tf_dim_ordering_tf_kernels_notop.h5\n",
            "58892288/58889256 [==============================] - 0s 0us/step\n",
            "58900480/58889256 [==============================] - 0s 0us/step\n"
          ]
        }
      ]
    },
    {
      "cell_type": "code",
      "source": [
        "# VGG16\n",
        "vgg16.compile(loss='categorical_crossentropy',\n",
        "              optimizer=tf.keras.optimizers.SGD(lr=1e-4, momentum=0.9),\n",
        "              metrics=['accuracy'])"
      ],
      "metadata": {
        "id": "8raHNmfJzfIH",
        "colab": {
          "base_uri": "https://localhost:8080/"
        },
        "outputId": "2c3d369f-b806-4ce0-a6eb-4f638789f9b4"
      },
      "execution_count": null,
      "outputs": [
        {
          "output_type": "stream",
          "name": "stderr",
          "text": [
            "/usr/local/lib/python3.7/dist-packages/keras/optimizer_v2/gradient_descent.py:102: UserWarning: The `lr` argument is deprecated, use `learning_rate` instead.\n",
            "  super(SGD, self).__init__(name, **kwargs)\n"
          ]
        }
      ]
    },
    {
      "cell_type": "code",
      "source": [
        "# Train VGG16\n",
        "import tensorflow as tf\n",
        "from keras.callbacks import EarlyStopping, ModelCheckpoint, ReduceLROnPlateau\n",
        "\n",
        "with tf.device(\"/device:GPU:0\"):\n",
        "  earlyStopping = EarlyStopping(monitor='val_loss', patience=10, verbose=0, mode='min')\n",
        "  reduce_lr_loss = ReduceLROnPlateau(monitor='val_loss', factor=0.1, patience=7, verbose=1, epsilon=1e-4, mode='min')\n",
        "  model_checkpoint_callback = tf.keras.callbacks.ModelCheckpoint(\n",
        "    filepath='/',\n",
        "    save_weights_only=True,\n",
        "    monitor='val_loss',\n",
        "    mode='min',\n",
        "    save_best_only=True)\n",
        "  \n",
        "  vgg16_history_pretrained = vgg16.fit(X_train, y_train, epochs=10, shuffle = True, callbacks=[reduce_lr_loss], verbose = 1, validation_split=0.2)"
      ],
      "metadata": {
        "id": "8TN2pZdo2HS1",
        "colab": {
          "base_uri": "https://localhost:8080/"
        },
        "outputId": "5fd6bef1-d9ce-4e38-e19e-b7d10f136750"
      },
      "execution_count": null,
      "outputs": [
        {
          "output_type": "stream",
          "name": "stdout",
          "text": [
            "WARNING:tensorflow:`epsilon` argument is deprecated and will be removed, use `min_delta` instead.\n",
            "Epoch 1/10\n",
            "304/304 [==============================] - 33s 70ms/step - loss: 1.6147 - accuracy: 0.6251 - val_loss: 0.4132 - val_accuracy: 0.8905 - lr: 1.0000e-04\n",
            "Epoch 2/10\n",
            "304/304 [==============================] - 20s 65ms/step - loss: 0.3040 - accuracy: 0.9160 - val_loss: 0.2388 - val_accuracy: 0.9342 - lr: 1.0000e-04\n",
            "Epoch 3/10\n",
            "304/304 [==============================] - 20s 65ms/step - loss: 0.1838 - accuracy: 0.9471 - val_loss: 0.1786 - val_accuracy: 0.9469 - lr: 1.0000e-04\n",
            "Epoch 4/10\n",
            "304/304 [==============================] - 20s 65ms/step - loss: 0.1251 - accuracy: 0.9612 - val_loss: 0.1486 - val_accuracy: 0.9547 - lr: 1.0000e-04\n",
            "Epoch 5/10\n",
            "304/304 [==============================] - 20s 65ms/step - loss: 0.0982 - accuracy: 0.9711 - val_loss: 0.1549 - val_accuracy: 0.9564 - lr: 1.0000e-04\n",
            "Epoch 6/10\n",
            "304/304 [==============================] - 21s 68ms/step - loss: 0.0747 - accuracy: 0.9769 - val_loss: 0.1380 - val_accuracy: 0.9621 - lr: 1.0000e-04\n",
            "Epoch 7/10\n",
            "304/304 [==============================] - 20s 65ms/step - loss: 0.0559 - accuracy: 0.9837 - val_loss: 0.1312 - val_accuracy: 0.9626 - lr: 1.0000e-04\n",
            "Epoch 8/10\n",
            "304/304 [==============================] - 20s 66ms/step - loss: 0.0406 - accuracy: 0.9881 - val_loss: 0.1264 - val_accuracy: 0.9658 - lr: 1.0000e-04\n",
            "Epoch 9/10\n",
            "304/304 [==============================] - 20s 65ms/step - loss: 0.0320 - accuracy: 0.9908 - val_loss: 0.1213 - val_accuracy: 0.9687 - lr: 1.0000e-04\n",
            "Epoch 10/10\n",
            "304/304 [==============================] - 20s 65ms/step - loss: 0.0301 - accuracy: 0.9915 - val_loss: 0.1171 - val_accuracy: 0.9695 - lr: 1.0000e-04\n"
          ]
        }
      ]
    },
    {
      "cell_type": "code",
      "source": [
        "import matplotlib.pyplot as plt\n",
        "# summarize history for accuracy\n",
        "plt.plot(vgg16_history_pretrained.history['accuracy'], label='Training Accuracy')\n",
        "plt.plot(vgg16_history_pretrained.history['val_accuracy'], label='Validation Accuracy')\n",
        "plt.title('Accuracy')\n",
        "plt.ylabel('Accuracy(Training and Validation)')\n",
        "plt.xlabel('epoch')\n",
        "plt.legend(loc='lower right')\n",
        "#plt.legend(['Training'],['Validation'], loc='upper left')\n",
        "plt.title('Training and Validation Accuracy')\n",
        "\n",
        "#plt.legend(['Pretrained'], loc='upper left')\n",
        "plt.show()\n",
        "# summarize history for loss\n",
        "plt.plot(vgg16_history_pretrained.history['loss'], label='Training Loss')\n",
        "plt.plot(vgg16_history_pretrained.history['val_loss'], label='Validation Loss')\n",
        "plt.title('Loss')\n",
        "plt.ylabel('Loss(Training and Validation)')\n",
        "plt.xlabel('epoch')\n",
        "#plt.legend(loc='upper right')\n",
        "plt.title('Training and Validation Loss')\n",
        "#plt.legend(loc='upper right')\n",
        "plt.legend(loc='upper right')\n",
        "plt.show()"
      ],
      "metadata": {
        "id": "zvAmDvoz2b8C",
        "colab": {
          "base_uri": "https://localhost:8080/",
          "height": 573
        },
        "outputId": "3e757417-8ee3-4056-fa88-4c922b821b53"
      },
      "execution_count": null,
      "outputs": [
        {
          "output_type": "display_data",
          "data": {
            "text/plain": [
              "<Figure size 432x288 with 1 Axes>"
            ],
            "image/png": "[encoded data removed]"
          },
          "metadata": {
            "needs_background": "light"
          }
        },
        {
          "output_type": "display_data",
          "data": {
            "text/plain": [
              "<Figure size 432x288 with 1 Axes>"
            ],
            "image/png": "[encoded data removed]"
          },
          "metadata": {
            "needs_background": "light"
          }
        }
      ]
    },
    {
      "cell_type": "code",
      "source": [
        "# Training, Validation Accuracy and Loss\n",
        "import statistics\n",
        "#data = [accuracy']\n",
        "x = statistics.mean(vgg16_history_pretrained.history['accuracy'])\n",
        "print(\"Training Accuracy: \", x)\n",
        "\n",
        "y = statistics.mean(vgg16_history_pretrained.history['loss'])\n",
        "print(\"Training Loss: \", y)\n",
        "\n",
        "x1 = statistics.mean(vgg16_history_pretrained.history['val_accuracy'])\n",
        "print(\"Validation Accuracy: \",x1)\n",
        "\n",
        "y1 = statistics.mean(vgg16_history_pretrained.history['val_loss'])\n",
        "print(\"Validation Loss: \",y1)"
      ],
      "metadata": {
        "id": "Ea1AvTTCKG-m",
        "colab": {
          "base_uri": "https://localhost:8080/"
        },
        "outputId": "013ba006-b7a6-48d5-ae4b-eb6fd0be0c31"
      },
      "execution_count": null,
      "outputs": [
        {
          "output_type": "stream",
          "name": "stdout",
          "text": [
            "Training Accuracy:  0.9351482152938843\n",
            "Training Loss:  0.25591110810637474\n",
            "Validation Accuracy:  0.9511522591114044\n",
            "Validation Loss:  0.17682373523712158\n"
          ]
        }
      ]
    },
    {
      "cell_type": "code",
      "source": [
        "train_predictions = vgg16.predict(X_train)\n",
        "test_predictions = vgg16.predict(X_test)\n",
        "\n",
        "print(\"Train Data: \"+str(accuracy_score(y_train.argmax(axis=-1), train_predictions.argmax(axis=-1))))\n",
        "print(\"Test Data: \"+str(accuracy_score(y_test.argmax(axis=-1), test_predictions.argmax(axis=-1))))\n",
        "# Train Data Classification Report\n",
        "print(classification_report(y_train.argmax(axis=-1), train_predictions.argmax(axis=-1)))\n",
        "# Test Data Classification Report\n",
        "print(classification_report(y_test.argmax(axis=-1), test_predictions.argmax(axis=-1)))"
      ],
      "metadata": {
        "id": "K0pklgvnKJQ7",
        "colab": {
          "base_uri": "https://localhost:8080/"
        },
        "outputId": "883b30a5-ee16-4638-cca4-44c73d8250c8"
      },
      "execution_count": null,
      "outputs": [
        {
          "output_type": "stream",
          "name": "stdout",
          "text": [
            "Train Data: 0.9905318623415116\n",
            "Test Data: 0.9637800460981232\n",
            "              precision    recall  f1-score   support\n",
            "\n",
            "           0       1.00      1.00      1.00         1\n",
            "           1       1.00      0.50      0.67         2\n",
            "           2       0.86      0.97      0.91        32\n",
            "           3       1.00      0.50      0.67        10\n",
            "           4       0.97      0.96      0.96        69\n",
            "           5       1.00      0.90      0.95        21\n",
            "           6       1.00      1.00      1.00         3\n",
            "           7       1.00      1.00      1.00        16\n",
            "           8       1.00      1.00      1.00         1\n",
            "           9       1.00      0.70      0.82        10\n",
            "          10       0.75      1.00      0.86        12\n",
            "          11       1.00      1.00      1.00         4\n",
            "          12       0.72      1.00      0.84        13\n",
            "          13       1.00      1.00      1.00         8\n",
            "          14       1.00      0.50      0.67         6\n",
            "          15       0.80      1.00      0.89         4\n",
            "          16       1.00      1.00      1.00       342\n",
            "          17       1.00      0.95      0.97        40\n",
            "          18       1.00      1.00      1.00      1112\n",
            "          19       1.00      1.00      1.00        22\n",
            "          20       1.00      1.00      1.00       268\n",
            "          21       0.99      1.00      0.99        92\n",
            "          22       0.97      1.00      0.99       204\n",
            "          23       0.99      0.99      0.99       185\n",
            "          24       0.99      1.00      0.99       353\n",
            "          25       1.00      1.00      1.00        89\n",
            "          26       1.00      1.00      1.00        14\n",
            "          27       1.00      0.97      0.98       370\n",
            "          28       0.99      1.00      1.00       555\n",
            "          29       0.98      1.00      0.99       247\n",
            "          30       1.00      1.00      1.00        78\n",
            "          31       1.00      1.00      1.00       747\n",
            "          32       1.00      1.00      1.00       631\n",
            "          33       1.00      1.00      1.00        78\n",
            "          34       1.00      1.00      1.00       534\n",
            "          35       1.00      1.00      1.00        66\n",
            "          36       0.96      1.00      0.98        66\n",
            "          37       0.94      0.96      0.95        78\n",
            "          38       0.95      1.00      0.97        18\n",
            "          39       0.99      0.91      0.95       185\n",
            "          40       0.97      0.99      0.98        75\n",
            "          41       1.00      1.00      1.00       881\n",
            "          42       0.98      0.98      0.98       656\n",
            "          43       0.97      1.00      0.98       735\n",
            "          44       1.00      1.00      1.00       478\n",
            "          45       1.00      1.00      1.00       951\n",
            "          46       0.97      0.91      0.94        35\n",
            "          47       1.00      0.99      0.99       269\n",
            "          48       0.98      0.86      0.92        59\n",
            "          49       0.99      1.00      1.00       102\n",
            "          50       1.00      0.96      0.98        92\n",
            "          51       0.97      1.00      0.99        76\n",
            "          52       1.00      1.00      1.00        75\n",
            "          53       0.92      0.98      0.95       103\n",
            "          54       1.00      0.99      1.00       174\n",
            "          55       1.00      0.99      0.99       372\n",
            "          56       1.00      0.98      0.99        60\n",
            "          57       1.00      1.00      1.00        58\n",
            "          58       0.98      1.00      0.99        96\n",
            "          59       1.00      0.97      0.99       213\n",
            "\n",
            "    accuracy                           0.99     12146\n",
            "   macro avg       0.98      0.96      0.96     12146\n",
            "weighted avg       0.99      0.99      0.99     12146\n",
            "\n",
            "              precision    recall  f1-score   support\n",
            "\n",
            "           0       0.00      0.00      0.00         1\n",
            "           2       0.55      0.75      0.63         8\n",
            "           3       0.00      0.00      0.00         2\n",
            "           4       0.85      0.85      0.85        13\n",
            "           5       0.71      0.83      0.77         6\n",
            "           6       1.00      1.00      1.00         3\n",
            "           7       0.00      0.00      0.00         3\n",
            "           9       1.00      0.50      0.67         4\n",
            "          10       0.50      1.00      0.67         1\n",
            "          11       0.00      0.00      0.00         0\n",
            "          12       0.83      0.71      0.77         7\n",
            "          13       1.00      1.00      1.00         1\n",
            "          15       1.00      1.00      1.00         1\n",
            "          16       0.99      1.00      0.99        78\n",
            "          17       0.83      0.71      0.77         7\n",
            "          18       1.00      0.99      1.00       239\n",
            "          19       1.00      1.00      1.00         4\n",
            "          20       0.97      1.00      0.99        71\n",
            "          21       0.79      1.00      0.88        26\n",
            "          22       0.96      0.96      0.96        51\n",
            "          23       1.00      1.00      1.00        43\n",
            "          24       0.98      1.00      0.99        87\n",
            "          25       0.94      1.00      0.97        17\n",
            "          27       0.99      0.98      0.98        88\n",
            "          28       0.99      0.99      0.99       150\n",
            "          29       0.96      1.00      0.98        52\n",
            "          30       0.96      0.96      0.96        24\n",
            "          31       0.99      1.00      0.99       225\n",
            "          32       0.99      0.97      0.98       179\n",
            "          33       0.94      1.00      0.97        17\n",
            "          34       0.97      0.97      0.97       139\n",
            "          35       1.00      1.00      1.00        12\n",
            "          36       0.95      1.00      0.98        20\n",
            "          37       0.95      1.00      0.97        18\n",
            "          38       0.86      0.86      0.86         7\n",
            "          39       0.91      0.90      0.90        58\n",
            "          40       0.83      1.00      0.91        10\n",
            "          41       0.99      1.00      1.00       214\n",
            "          42       0.89      0.80      0.84       146\n",
            "          43       0.93      0.97      0.95       178\n",
            "          44       0.97      1.00      0.99       111\n",
            "          45       1.00      0.99      1.00       242\n",
            "          46       1.00      0.43      0.60         7\n",
            "          47       0.98      0.98      0.98        55\n",
            "          48       0.47      0.56      0.51        16\n",
            "          49       1.00      0.94      0.97        35\n",
            "          50       0.96      0.96      0.96        24\n",
            "          51       1.00      1.00      1.00         9\n",
            "          52       1.00      1.00      1.00        17\n",
            "          53       0.77      0.77      0.77        39\n",
            "          54       0.98      0.98      0.98        53\n",
            "          55       0.98      0.99      0.98        94\n",
            "          56       0.92      0.92      0.92        13\n",
            "          57       1.00      1.00      1.00        23\n",
            "          58       1.00      0.96      0.98        27\n",
            "          59       0.98      0.95      0.97        62\n",
            "\n",
            "    accuracy                           0.96      3037\n",
            "   macro avg       0.86      0.86      0.85      3037\n",
            "weighted avg       0.96      0.96      0.96      3037\n",
            "\n"
          ]
        },
        {
          "output_type": "stream",
          "name": "stderr",
          "text": [
            "/usr/local/lib/python3.7/dist-packages/sklearn/metrics/_classification.py:1318: UndefinedMetricWarning: Precision and F-score are ill-defined and being set to 0.0 in labels with no predicted samples. Use `zero_division` parameter to control this behavior.\n",
            "  _warn_prf(average, modifier, msg_start, len(result))\n",
            "/usr/local/lib/python3.7/dist-packages/sklearn/metrics/_classification.py:1318: UndefinedMetricWarning: Recall and F-score are ill-defined and being set to 0.0 in labels with no true samples. Use `zero_division` parameter to control this behavior.\n",
            "  _warn_prf(average, modifier, msg_start, len(result))\n",
            "/usr/local/lib/python3.7/dist-packages/sklearn/metrics/_classification.py:1318: UndefinedMetricWarning: Precision and F-score are ill-defined and being set to 0.0 in labels with no predicted samples. Use `zero_division` parameter to control this behavior.\n",
            "  _warn_prf(average, modifier, msg_start, len(result))\n",
            "/usr/local/lib/python3.7/dist-packages/sklearn/metrics/_classification.py:1318: UndefinedMetricWarning: Recall and F-score are ill-defined and being set to 0.0 in labels with no true samples. Use `zero_division` parameter to control this behavior.\n",
            "  _warn_prf(average, modifier, msg_start, len(result))\n",
            "/usr/local/lib/python3.7/dist-packages/sklearn/metrics/_classification.py:1318: UndefinedMetricWarning: Precision and F-score are ill-defined and being set to 0.0 in labels with no predicted samples. Use `zero_division` parameter to control this behavior.\n",
            "  _warn_prf(average, modifier, msg_start, len(result))\n",
            "/usr/local/lib/python3.7/dist-packages/sklearn/metrics/_classification.py:1318: UndefinedMetricWarning: Recall and F-score are ill-defined and being set to 0.0 in labels with no true samples. Use `zero_division` parameter to control this behavior.\n",
            "  _warn_prf(average, modifier, msg_start, len(result))\n"
          ]
        }
      ]
    },
    {
      "cell_type": "code",
      "source": [
        "vgg16.save(\"VGG16_Model.h5\")"
      ],
      "metadata": {
        "id": "KqkI8_I2LGmp"
      },
      "execution_count": null,
      "outputs": []
    },
    {
      "cell_type": "markdown",
      "source": [
        "#### VGG19"
      ],
      "metadata": {
        "id": "Vvgagiey2Uw1"
      }
    },
    {
      "cell_type": "code",
      "source": [
        "# VGG19 with pretrained weights\n",
        "vgg19 = tf.keras.applications.VGG19(weights='imagenet', include_top=False,input_shape=(32,32,3))\n",
        "# add a global spatial average pooling layer\n",
        "x = vgg19.output\n",
        "x = tf.keras.layers.GlobalAveragePooling2D()(x)\n",
        "# add a fully-connected layer\n",
        "x = tf.keras.layers.Dense(512, activation='relu')(x)\n",
        "# and a fully connected output/classification layer\n",
        "predictions = tf.keras.layers.Dense(60, activation='softmax')(x)\n",
        "# create the full network so we can train on it\n",
        "vgg19 = Model(inputs=vgg19.input, outputs=predictions)"
      ],
      "metadata": {
        "id": "WsogHwWA2apZ",
        "colab": {
          "base_uri": "https://localhost:8080/"
        },
        "outputId": "129476c5-7359-46bb-989b-8ef2e4781e13"
      },
      "execution_count": null,
      "outputs": [
        {
          "output_type": "stream",
          "name": "stdout",
          "text": [
            "Downloading data from https://storage.googleapis.com/tensorflow/keras-applications/vgg19/vgg19_weights_tf_dim_ordering_tf_kernels_notop.h5\n",
            "80142336/80134624 [==============================] - 1s 0us/step\n",
            "80150528/80134624 [==============================] - 1s 0us/step\n"
          ]
        }
      ]
    },
    {
      "cell_type": "code",
      "source": [
        "# VGG19\n",
        "vgg19.compile(loss='categorical_crossentropy',\n",
        "              optimizer=tf.keras.optimizers.SGD(lr=1e-4, momentum=0.9),\n",
        "              metrics=['accuracy'])"
      ],
      "metadata": {
        "id": "3sXIrXHy2bBX",
        "colab": {
          "base_uri": "https://localhost:8080/"
        },
        "outputId": "1653c687-54bf-4a0d-a98f-511e967db60d"
      },
      "execution_count": null,
      "outputs": [
        {
          "output_type": "stream",
          "name": "stderr",
          "text": [
            "/usr/local/lib/python3.7/dist-packages/keras/optimizer_v2/gradient_descent.py:102: UserWarning: The `lr` argument is deprecated, use `learning_rate` instead.\n",
            "  super(SGD, self).__init__(name, **kwargs)\n"
          ]
        }
      ]
    },
    {
      "cell_type": "code",
      "source": [
        "import tensorflow as tf\n",
        "from keras.callbacks import EarlyStopping, ModelCheckpoint, ReduceLROnPlateau\n",
        "\n",
        "with tf.device(\"/device:GPU:0\"):\n",
        "  earlyStopping = EarlyStopping(monitor='val_loss', patience=10, verbose=0, mode='min')\n",
        "  reduce_lr_loss = ReduceLROnPlateau(monitor='val_loss', factor=0.1, patience=7, verbose=1, epsilon=1e-4, mode='min')\n",
        "  model_checkpoint_callback = tf.keras.callbacks.ModelCheckpoint(\n",
        "    filepath='/',\n",
        "    save_weights_only=True,\n",
        "    monitor='val_loss',\n",
        "    mode='min',\n",
        "    save_best_only=True)\n",
        "  \n",
        "  vgg19_history_pretrained = vgg19.fit(X_train, y_train, epochs=10, shuffle = True, callbacks=[reduce_lr_loss, earlyStopping, model_checkpoint_callback], verbose = 1, validation_split=0.2)"
      ],
      "metadata": {
        "id": "tSNbaNHi2bKE",
        "colab": {
          "base_uri": "https://localhost:8080/"
        },
        "outputId": "9379fede-4719-40af-d52c-4cde31f5e780"
      },
      "execution_count": null,
      "outputs": [
        {
          "output_type": "stream",
          "name": "stdout",
          "text": [
            "WARNING:tensorflow:`epsilon` argument is deprecated and will be removed, use `min_delta` instead.\n",
            "Epoch 1/10\n",
            "304/304 [==============================] - 27s 84ms/step - loss: 1.3998 - accuracy: 0.6749 - val_loss: 0.4318 - val_accuracy: 0.8807 - lr: 1.0000e-04\n",
            "Epoch 2/10\n",
            "304/304 [==============================] - 25s 82ms/step - loss: 0.3095 - accuracy: 0.9131 - val_loss: 0.2344 - val_accuracy: 0.9309 - lr: 1.0000e-04\n",
            "Epoch 3/10\n",
            "304/304 [==============================] - 25s 82ms/step - loss: 0.1933 - accuracy: 0.9460 - val_loss: 0.1764 - val_accuracy: 0.9481 - lr: 1.0000e-04\n",
            "Epoch 4/10\n",
            "304/304 [==============================] - 24s 80ms/step - loss: 0.1289 - accuracy: 0.9619 - val_loss: 0.1909 - val_accuracy: 0.9440 - lr: 1.0000e-04\n",
            "Epoch 5/10\n",
            "304/304 [==============================] - 24s 80ms/step - loss: 0.0905 - accuracy: 0.9725 - val_loss: 0.1274 - val_accuracy: 0.9687 - lr: 1.0000e-04\n",
            "Epoch 6/10\n",
            "304/304 [==============================] - 24s 80ms/step - loss: 0.0705 - accuracy: 0.9787 - val_loss: 0.1149 - val_accuracy: 0.9720 - lr: 1.0000e-04\n",
            "Epoch 7/10\n",
            "304/304 [==============================] - 24s 79ms/step - loss: 0.0551 - accuracy: 0.9843 - val_loss: 0.1150 - val_accuracy: 0.9679 - lr: 1.0000e-04\n",
            "Epoch 8/10\n",
            "304/304 [==============================] - 24s 79ms/step - loss: 0.0410 - accuracy: 0.9878 - val_loss: 0.1707 - val_accuracy: 0.9564 - lr: 1.0000e-04\n",
            "Epoch 9/10\n",
            "304/304 [==============================] - 25s 84ms/step - loss: 0.0362 - accuracy: 0.9890 - val_loss: 0.1063 - val_accuracy: 0.9724 - lr: 1.0000e-04\n",
            "Epoch 10/10\n",
            "304/304 [==============================] - 25s 82ms/step - loss: 0.0271 - accuracy: 0.9921 - val_loss: 0.1066 - val_accuracy: 0.9716 - lr: 1.0000e-04\n"
          ]
        }
      ]
    },
    {
      "cell_type": "code",
      "source": [
        "import matplotlib.pyplot as plt\n",
        "# summarize history for accuracy\n",
        "plt.plot(vgg19_history_pretrained.history['accuracy'], label='Training Accuracy')\n",
        "plt.plot(vgg19_history_pretrained.history['val_accuracy'], label='Validation Accuracy')\n",
        "plt.title('Accuracy')\n",
        "plt.ylabel('Accuracy(Training and Validation)')\n",
        "plt.xlabel('epoch')\n",
        "plt.legend(loc='lower right')\n",
        "#plt.legend(['Training'],['Validation'], loc='upper left')\n",
        "plt.title('Training and Validation Accuracy')\n",
        "\n",
        "#plt.legend(['Pretrained'], loc='upper left')\n",
        "plt.show()\n",
        "# summarize history for loss\n",
        "plt.plot(vgg19_history_pretrained.history['loss'], label='Training Loss')\n",
        "plt.plot(vgg19_history_pretrained.history['val_loss'], label='Validation Loss')\n",
        "plt.title('Loss')\n",
        "plt.ylabel('Loss(Training and Validation)')\n",
        "plt.xlabel('epoch')\n",
        "#plt.legend(loc='upper right')\n",
        "plt.title('Training and Validation Loss')\n",
        "#plt.legend(loc='upper right')\n",
        "plt.legend(loc='upper right')\n",
        "plt.show()"
      ],
      "metadata": {
        "id": "g4r3WNh02cq9",
        "colab": {
          "base_uri": "https://localhost:8080/",
          "height": 573
        },
        "outputId": "c2fb3552-a31c-4f5c-a4cb-abc19a890d99"
      },
      "execution_count": null,
      "outputs": [
        {
          "output_type": "display_data",
          "data": {
            "text/plain": [
              "<Figure size 432x288 with 1 Axes>"
            ],
            "image/png": "[encoded data removed]"
          },
          "metadata": {
            "needs_background": "light"
          }
        },
        {
          "output_type": "display_data",
          "data": {
            "text/plain": [
              "<Figure size 432x288 with 1 Axes>"
            ],
            "image/png": "[encoded data removed]"
          },
          "metadata": {
            "needs_background": "light"
          }
        }
      ]
    },
    {
      "cell_type": "code",
      "source": [
        "# Training, Validation Accuracy and Loss\n",
        "import statistics\n",
        "#data = [accuracy']\n",
        "x = statistics.mean(vgg19_history_pretrained.history['accuracy'])\n",
        "print(\"Training Accuracy: \", x)\n",
        "\n",
        "y = statistics.mean(vgg19_history_pretrained.history['loss'])\n",
        "print(\"Training Loss: \", y)\n",
        "\n",
        "x1 = statistics.mean(vgg19_history_pretrained.history['val_accuracy'])\n",
        "print(\"Validation Accuracy: \",x1)\n",
        "\n",
        "y1 = statistics.mean(vgg19_history_pretrained.history['val_loss'])\n",
        "print(\"Validation Loss: \",y1)"
      ],
      "metadata": {
        "id": "CtahTXXtKBTI",
        "colab": {
          "base_uri": "https://localhost:8080/"
        },
        "outputId": "10bb7da9-ae8d-4a30-b72a-78b0c442016e"
      },
      "execution_count": null,
      "outputs": [
        {
          "output_type": "stream",
          "name": "stdout",
          "text": [
            "Training Accuracy:  0.9400164604187011\n",
            "Training Loss:  0.2351911924779415\n",
            "Validation Accuracy:  0.9512757122516632\n",
            "Validation Loss:  0.17743507400155067\n"
          ]
        }
      ]
    },
    {
      "cell_type": "code",
      "source": [
        "train_predictions = vgg19.predict(X_train)\n",
        "test_predictions = vgg19.predict(X_test)\n",
        "\n",
        "print(\"Train Data: \"+str(accuracy_score(y_train.argmax(axis=-1), train_predictions.argmax(axis=-1))))\n",
        "print(\"Test Data: \"+str(accuracy_score(y_test.argmax(axis=-1), test_predictions.argmax(axis=-1))))\n",
        "# Train Data Classification Report\n",
        "print(classification_report(y_train.argmax(axis=-1), train_predictions.argmax(axis=-1)))\n",
        "# Test Data Classification Report\n",
        "print(classification_report(y_test.argmax(axis=-1), test_predictions.argmax(axis=-1)))"
      ],
      "metadata": {
        "id": "MFyoOzKWKV09",
        "colab": {
          "base_uri": "https://localhost:8080/"
        },
        "outputId": "8fb28072-58d5-4ed4-81ff-7bae15c5b9cc"
      },
      "execution_count": null,
      "outputs": [
        {
          "output_type": "stream",
          "name": "stdout",
          "text": [
            "Train Data: 0.9916845051868928\n",
            "Test Data: 0.9720118538030952\n",
            "              precision    recall  f1-score   support\n",
            "\n",
            "           0       1.00      1.00      1.00         1\n",
            "           1       1.00      0.50      0.67         2\n",
            "           2       0.94      1.00      0.97        32\n",
            "           3       0.88      0.70      0.78        10\n",
            "           4       1.00      0.99      0.99        69\n",
            "           5       0.83      0.95      0.89        21\n",
            "           6       1.00      0.67      0.80         3\n",
            "           7       1.00      1.00      1.00        16\n",
            "           8       1.00      1.00      1.00         1\n",
            "           9       1.00      0.90      0.95        10\n",
            "          10       0.92      1.00      0.96        12\n",
            "          11       1.00      1.00      1.00         4\n",
            "          12       0.92      0.92      0.92        13\n",
            "          13       1.00      1.00      1.00         8\n",
            "          14       0.67      0.67      0.67         6\n",
            "          15       0.75      0.75      0.75         4\n",
            "          16       0.99      1.00      1.00       342\n",
            "          17       0.95      1.00      0.98        40\n",
            "          18       1.00      1.00      1.00      1112\n",
            "          19       1.00      1.00      1.00        22\n",
            "          20       1.00      1.00      1.00       268\n",
            "          21       0.99      0.97      0.98        92\n",
            "          22       0.99      1.00      1.00       204\n",
            "          23       1.00      0.99      0.99       185\n",
            "          24       0.99      0.99      0.99       353\n",
            "          25       0.98      1.00      0.99        89\n",
            "          26       1.00      1.00      1.00        14\n",
            "          27       0.99      0.98      0.99       370\n",
            "          28       1.00      1.00      1.00       555\n",
            "          29       0.99      0.99      0.99       247\n",
            "          30       0.99      1.00      0.99        78\n",
            "          31       1.00      1.00      1.00       747\n",
            "          32       1.00      1.00      1.00       631\n",
            "          33       0.99      1.00      0.99        78\n",
            "          34       1.00      1.00      1.00       534\n",
            "          35       1.00      1.00      1.00        66\n",
            "          36       1.00      1.00      1.00        66\n",
            "          37       0.88      0.96      0.92        78\n",
            "          38       1.00      1.00      1.00        18\n",
            "          39       0.93      0.99      0.96       185\n",
            "          40       0.99      0.93      0.96        75\n",
            "          41       1.00      1.00      1.00       881\n",
            "          42       0.99      0.96      0.98       656\n",
            "          43       0.99      0.99      0.99       735\n",
            "          44       1.00      1.00      1.00       478\n",
            "          45       1.00      1.00      1.00       951\n",
            "          46       0.94      0.97      0.96        35\n",
            "          47       1.00      1.00      1.00       269\n",
            "          48       0.88      0.98      0.93        59\n",
            "          49       0.99      1.00      1.00       102\n",
            "          50       0.99      0.99      0.99        92\n",
            "          51       1.00      1.00      1.00        76\n",
            "          52       0.99      1.00      0.99        75\n",
            "          53       0.99      0.91      0.95       103\n",
            "          54       0.99      0.99      0.99       174\n",
            "          55       0.98      0.99      0.99       372\n",
            "          56       1.00      0.98      0.99        60\n",
            "          57       1.00      0.98      0.99        58\n",
            "          58       1.00      0.99      0.99        96\n",
            "          59       0.99      0.99      0.99       213\n",
            "\n",
            "    accuracy                           0.99     12146\n",
            "   macro avg       0.97      0.96      0.96     12146\n",
            "weighted avg       0.99      0.99      0.99     12146\n",
            "\n",
            "              precision    recall  f1-score   support\n",
            "\n",
            "           0       0.00      0.00      0.00         1\n",
            "           2       0.88      0.88      0.88         8\n",
            "           3       0.00      0.00      0.00         2\n",
            "           4       0.83      0.77      0.80        13\n",
            "           5       0.67      0.67      0.67         6\n",
            "           6       1.00      0.33      0.50         3\n",
            "           7       1.00      1.00      1.00         3\n",
            "           9       0.60      0.75      0.67         4\n",
            "          10       0.33      1.00      0.50         1\n",
            "          12       0.75      0.86      0.80         7\n",
            "          13       1.00      1.00      1.00         1\n",
            "          14       0.00      0.00      0.00         0\n",
            "          15       0.00      0.00      0.00         1\n",
            "          16       1.00      0.99      0.99        78\n",
            "          17       1.00      0.86      0.92         7\n",
            "          18       0.99      0.99      0.99       239\n",
            "          19       1.00      1.00      1.00         4\n",
            "          20       1.00      1.00      1.00        71\n",
            "          21       0.92      0.85      0.88        26\n",
            "          22       0.98      0.98      0.98        51\n",
            "          23       0.98      1.00      0.99        43\n",
            "          24       1.00      1.00      1.00        87\n",
            "          25       0.94      1.00      0.97        17\n",
            "          27       0.99      0.99      0.99        88\n",
            "          28       1.00      0.98      0.99       150\n",
            "          29       1.00      1.00      1.00        52\n",
            "          30       0.96      1.00      0.98        24\n",
            "          31       1.00      1.00      1.00       225\n",
            "          32       0.99      0.99      0.99       179\n",
            "          33       1.00      1.00      1.00        17\n",
            "          34       0.99      0.98      0.98       139\n",
            "          35       1.00      1.00      1.00        12\n",
            "          36       1.00      1.00      1.00        20\n",
            "          37       0.78      1.00      0.88        18\n",
            "          38       1.00      0.71      0.83         7\n",
            "          39       0.73      0.97      0.83        58\n",
            "          40       1.00      1.00      1.00        10\n",
            "          41       1.00      1.00      1.00       214\n",
            "          42       0.98      0.82      0.90       146\n",
            "          43       0.97      0.96      0.96       178\n",
            "          44       0.99      1.00      1.00       111\n",
            "          45       1.00      1.00      1.00       242\n",
            "          46       1.00      1.00      1.00         7\n",
            "          47       0.96      1.00      0.98        55\n",
            "          48       0.62      0.81      0.70        16\n",
            "          49       1.00      0.97      0.99        35\n",
            "          50       1.00      1.00      1.00        24\n",
            "          51       0.90      1.00      0.95         9\n",
            "          52       1.00      1.00      1.00        17\n",
            "          53       0.89      0.79      0.84        39\n",
            "          54       0.98      0.98      0.98        53\n",
            "          55       0.95      1.00      0.97        94\n",
            "          56       0.93      1.00      0.96        13\n",
            "          57       1.00      1.00      1.00        23\n",
            "          58       1.00      0.96      0.98        27\n",
            "          59       0.97      1.00      0.98        62\n",
            "\n",
            "    accuracy                           0.97      3037\n",
            "   macro avg       0.87      0.87      0.86      3037\n",
            "weighted avg       0.97      0.97      0.97      3037\n",
            "\n"
          ]
        },
        {
          "output_type": "stream",
          "name": "stderr",
          "text": [
            "/usr/local/lib/python3.7/dist-packages/sklearn/metrics/_classification.py:1318: UndefinedMetricWarning: Precision and F-score are ill-defined and being set to 0.0 in labels with no predicted samples. Use `zero_division` parameter to control this behavior.\n",
            "  _warn_prf(average, modifier, msg_start, len(result))\n",
            "/usr/local/lib/python3.7/dist-packages/sklearn/metrics/_classification.py:1318: UndefinedMetricWarning: Recall and F-score are ill-defined and being set to 0.0 in labels with no true samples. Use `zero_division` parameter to control this behavior.\n",
            "  _warn_prf(average, modifier, msg_start, len(result))\n",
            "/usr/local/lib/python3.7/dist-packages/sklearn/metrics/_classification.py:1318: UndefinedMetricWarning: Precision and F-score are ill-defined and being set to 0.0 in labels with no predicted samples. Use `zero_division` parameter to control this behavior.\n",
            "  _warn_prf(average, modifier, msg_start, len(result))\n",
            "/usr/local/lib/python3.7/dist-packages/sklearn/metrics/_classification.py:1318: UndefinedMetricWarning: Recall and F-score are ill-defined and being set to 0.0 in labels with no true samples. Use `zero_division` parameter to control this behavior.\n",
            "  _warn_prf(average, modifier, msg_start, len(result))\n",
            "/usr/local/lib/python3.7/dist-packages/sklearn/metrics/_classification.py:1318: UndefinedMetricWarning: Precision and F-score are ill-defined and being set to 0.0 in labels with no predicted samples. Use `zero_division` parameter to control this behavior.\n",
            "  _warn_prf(average, modifier, msg_start, len(result))\n",
            "/usr/local/lib/python3.7/dist-packages/sklearn/metrics/_classification.py:1318: UndefinedMetricWarning: Recall and F-score are ill-defined and being set to 0.0 in labels with no true samples. Use `zero_division` parameter to control this behavior.\n",
            "  _warn_prf(average, modifier, msg_start, len(result))\n"
          ]
        }
      ]
    },
    {
      "cell_type": "code",
      "source": [
        "vgg19.save(\"VGG19_Model.h5\")"
      ],
      "metadata": {
        "id": "bispq51SLDOr"
      },
      "execution_count": null,
      "outputs": []
    },
    {
      "cell_type": "markdown",
      "source": [
        "#### ResNet101"
      ],
      "metadata": {
        "id": "3RBeE_AF2cyy"
      }
    },
    {
      "cell_type": "code",
      "source": [
        "# ResNet101 with pretrained weights\n",
        "resnet101 = tf.keras.applications.ResNet101(weights='imagenet', include_top=False, input_shape=(32,32,3))\n",
        "# add a global spatial average pooling layer\n",
        "x = resnet101.output\n",
        "x = tf.keras.layers.GlobalAveragePooling2D()(x)\n",
        "# add a fully-connected layer\n",
        "x = tf.keras.layers.Dense(512, activation='relu')(x)\n",
        "# and a fully connected output/classification layer\n",
        "predictions = tf.keras.layers.Dense(60, activation='softmax')(x)\n",
        "# create the full network so we can train on it\n",
        "resnet101 = Model(inputs=resnet101.input, outputs=predictions)"
      ],
      "metadata": {
        "id": "61zbPVtb2d7U",
        "colab": {
          "base_uri": "https://localhost:8080/"
        },
        "outputId": "1d4418c1-d942-4cbf-ebe0-ba030eb4d880"
      },
      "execution_count": null,
      "outputs": [
        {
          "output_type": "stream",
          "name": "stdout",
          "text": [
            "Downloading data from https://storage.googleapis.com/tensorflow/keras-applications/resnet/resnet101_weights_tf_dim_ordering_tf_kernels_notop.h5\n",
            "171450368/171446536 [==============================] - 1s 0us/step\n",
            "171458560/171446536 [==============================] - 1s 0us/step\n"
          ]
        }
      ]
    },
    {
      "cell_type": "code",
      "source": [
        "# ResNet101\n",
        "resnet101.compile(loss='categorical_crossentropy',\n",
        "              optimizer=tf.keras.optimizers.SGD(lr=1e-4, momentum=0.9),\n",
        "              metrics=['accuracy'])"
      ],
      "metadata": {
        "id": "E07vkPDF2eAo",
        "colab": {
          "base_uri": "https://localhost:8080/"
        },
        "outputId": "3535e164-24ab-49af-922e-8a0c8251bf04"
      },
      "execution_count": null,
      "outputs": [
        {
          "output_type": "stream",
          "name": "stderr",
          "text": [
            "/usr/local/lib/python3.7/dist-packages/keras/optimizer_v2/gradient_descent.py:102: UserWarning: The `lr` argument is deprecated, use `learning_rate` instead.\n",
            "  super(SGD, self).__init__(name, **kwargs)\n"
          ]
        }
      ]
    },
    {
      "cell_type": "code",
      "source": [
        "import tensorflow as tf\n",
        "from keras.callbacks import EarlyStopping, ModelCheckpoint, ReduceLROnPlateau\n",
        "\n",
        "with tf.device(\"/device:GPU:0\"):\n",
        "  earlyStopping = EarlyStopping(monitor='val_loss', patience=10, verbose=0, mode='min')\n",
        "  reduce_lr_loss = ReduceLROnPlateau(monitor='val_loss', factor=0.1, patience=7, verbose=1, epsilon=1e-4, mode='min')\n",
        "  model_checkpoint_callback = tf.keras.callbacks.ModelCheckpoint(\n",
        "    filepath='/',\n",
        "    save_weights_only=True,\n",
        "    monitor='val_loss',\n",
        "    mode='min',\n",
        "    save_best_only=True)\n",
        "  \n",
        "  resnet101_history_pretrained = resnet101.fit(X_train, y_train, epochs=10, shuffle = True, callbacks=[reduce_lr_loss, earlyStopping, model_checkpoint_callback], verbose = 1, validation_split=0.2)"
      ],
      "metadata": {
        "id": "sA-PK6Bc2eKm",
        "colab": {
          "base_uri": "https://localhost:8080/"
        },
        "outputId": "4fa36841-f975-4d6a-b020-9f28f5ab5b1d"
      },
      "execution_count": null,
      "outputs": [
        {
          "output_type": "stream",
          "name": "stdout",
          "text": [
            "WARNING:tensorflow:`epsilon` argument is deprecated and will be removed, use `min_delta` instead.\n",
            "Epoch 1/10\n",
            "304/304 [==============================] - 77s 211ms/step - loss: 2.4398 - accuracy: 0.4546 - val_loss: 50.9296 - val_accuracy: 0.0963 - lr: 1.0000e-04\n",
            "Epoch 2/10\n",
            "304/304 [==============================] - 63s 206ms/step - loss: 1.0217 - accuracy: 0.7643 - val_loss: 13.4368 - val_accuracy: 0.0934 - lr: 1.0000e-04\n",
            "Epoch 3/10\n",
            "304/304 [==============================] - 61s 200ms/step - loss: 0.6874 - accuracy: 0.8337 - val_loss: 2.6449 - val_accuracy: 0.4218 - lr: 1.0000e-04\n",
            "Epoch 4/10\n",
            "304/304 [==============================] - 61s 200ms/step - loss: 0.5979 - accuracy: 0.8554 - val_loss: 1.1581 - val_accuracy: 0.8267 - lr: 1.0000e-04\n",
            "Epoch 5/10\n",
            "304/304 [==============================] - 61s 200ms/step - loss: 0.5101 - accuracy: 0.8729 - val_loss: 1.0617 - val_accuracy: 0.7329 - lr: 1.0000e-04\n",
            "Epoch 6/10\n",
            "304/304 [==============================] - 62s 205ms/step - loss: 0.4252 - accuracy: 0.8910 - val_loss: 0.5496 - val_accuracy: 0.9156 - lr: 1.0000e-04\n",
            "Epoch 7/10\n",
            "304/304 [==============================] - 59s 194ms/step - loss: 0.3753 - accuracy: 0.9019 - val_loss: 0.7455 - val_accuracy: 0.8860 - lr: 1.0000e-04\n",
            "Epoch 8/10\n",
            "304/304 [==============================] - 61s 199ms/step - loss: 0.3655 - accuracy: 0.9061 - val_loss: 0.3361 - val_accuracy: 0.9148 - lr: 1.0000e-04\n",
            "Epoch 9/10\n",
            "304/304 [==============================] - 63s 206ms/step - loss: 0.2882 - accuracy: 0.9250 - val_loss: 0.3122 - val_accuracy: 0.9272 - lr: 1.0000e-04\n",
            "Epoch 10/10\n",
            "304/304 [==============================] - 63s 206ms/step - loss: 0.2021 - accuracy: 0.9451 - val_loss: 0.2072 - val_accuracy: 0.9486 - lr: 1.0000e-04\n"
          ]
        }
      ]
    },
    {
      "cell_type": "code",
      "source": [
        "import matplotlib.pyplot as plt\n",
        "# summarize history for accuracy\n",
        "plt.plot(resnet101_history_pretrained.history['accuracy'], label='Training Accuracy')\n",
        "plt.plot(resnet101_history_pretrained.history['val_accuracy'], label='Validation Accuracy')\n",
        "plt.title('Accuracy')\n",
        "plt.ylabel('Accuracy(Training and Validation)')\n",
        "plt.xlabel('epoch')\n",
        "plt.legend(loc='lower right')\n",
        "#plt.legend(['Training'],['Validation'], loc='upper left')\n",
        "plt.title('Training and Validation Accuracy')\n",
        "\n",
        "#plt.legend(['Pretrained'], loc='upper left')\n",
        "plt.show()\n",
        "# summarize history for loss\n",
        "plt.plot(resnet101_history_pretrained.history['loss'], label='Training Loss')\n",
        "plt.plot(resnet101_history_pretrained.history['val_loss'], label='Validation Loss')\n",
        "plt.title('Loss')\n",
        "plt.ylabel('Loss(Training and Validation)')\n",
        "plt.xlabel('epoch')\n",
        "#plt.legend(loc='upper right')\n",
        "plt.title('Training and Validation Loss')\n",
        "#plt.legend(loc='upper right')\n",
        "plt.legend(loc='upper right')\n",
        "plt.show()"
      ],
      "metadata": {
        "id": "kLXyKdLz2eSk",
        "colab": {
          "base_uri": "https://localhost:8080/",
          "height": 573
        },
        "outputId": "f8819880-361d-4d87-cc44-c12357db4714"
      },
      "execution_count": null,
      "outputs": [
        {
          "output_type": "display_data",
          "data": {
            "text/plain": [
              "<Figure size 432x288 with 1 Axes>"
            ],
            "image/png": "[encoded data removed]"
          },
          "metadata": {
            "needs_background": "light"
          }
        },
        {
          "output_type": "display_data",
          "data": {
            "text/plain": [
              "<Figure size 432x288 with 1 Axes>"
            ],
            "image/png": "[encoded data removed]"
          },
          "metadata": {
            "needs_background": "light"
          }
        }
      ]
    },
    {
      "cell_type": "code",
      "source": [
        "# Training, Validation Accuracy and Loss\n",
        "import statistics\n",
        "#data = [accuracy']\n",
        "x = statistics.mean(resnet101_history_pretrained.history['accuracy'])\n",
        "print(\"Training Accuracy: \", x)\n",
        "\n",
        "y = statistics.mean(resnet101_history_pretrained.history['loss'])\n",
        "print(\"Training Loss: \", y)\n",
        "\n",
        "x1 = statistics.mean(resnet101_history_pretrained.history['val_accuracy'])\n",
        "print(\"Validation Accuracy: \",x1)\n",
        "\n",
        "y1 = statistics.mean(resnet101_history_pretrained.history['val_loss'])\n",
        "print(\"Validation Loss: \",y1)"
      ],
      "metadata": {
        "id": "5ZBzTEoYKc8_",
        "colab": {
          "base_uri": "https://localhost:8080/"
        },
        "outputId": "1f611f3c-4bf6-464e-a085-e22343dc4817"
      },
      "execution_count": null,
      "outputs": [
        {
          "output_type": "stream",
          "name": "stdout",
          "text": [
            "Training Accuracy:  0.8350041091442109\n",
            "Training Loss:  0.6913195624947548\n",
            "Validation Accuracy:  0.6763374455273151\n",
            "Validation Loss:  7.138174042105675\n"
          ]
        }
      ]
    },
    {
      "cell_type": "code",
      "source": [
        "train_predictions = resnet101.predict(X_train)\n",
        "test_predictions = resnet101.predict(X_test)\n",
        "\n",
        "print(\"Train Data: \"+str(accuracy_score(y_train.argmax(axis=-1), train_predictions.argmax(axis=-1))))\n",
        "print(\"Test Data: \"+str(accuracy_score(y_test.argmax(axis=-1), test_predictions.argmax(axis=-1))))\n",
        "# Train Data Classification Report\n",
        "print(classification_report(y_train.argmax(axis=-1), train_predictions.argmax(axis=-1)))\n",
        "# Test Data Classification Report\n",
        "print(classification_report(y_test.argmax(axis=-1), test_predictions.argmax(axis=-1)))"
      ],
      "metadata": {
        "id": "cfb0HwIzKeqn",
        "colab": {
          "base_uri": "https://localhost:8080/"
        },
        "outputId": "d458ff1d-cba5-456d-ea6b-58bf4510c7e8"
      },
      "execution_count": null,
      "outputs": [
        {
          "output_type": "stream",
          "name": "stdout",
          "text": [
            "Train Data: 0.9734068829244196\n",
            "Test Data: 0.945011524530787\n",
            "              precision    recall  f1-score   support\n",
            "\n",
            "           0       0.00      0.00      0.00         1\n",
            "           1       0.00      0.00      0.00         2\n",
            "           2       0.74      0.53      0.62        32\n",
            "           3       0.86      0.60      0.71        10\n",
            "           4       0.68      1.00      0.81        69\n",
            "           5       0.64      0.67      0.65        21\n",
            "           6       0.00      0.00      0.00         3\n",
            "           7       1.00      0.75      0.86        16\n",
            "           8       0.00      0.00      0.00         1\n",
            "           9       1.00      0.10      0.18        10\n",
            "          10       1.00      0.67      0.80        12\n",
            "          11       0.00      0.00      0.00         4\n",
            "          12       0.64      0.54      0.58        13\n",
            "          13       1.00      0.12      0.22         8\n",
            "          14       0.40      0.33      0.36         6\n",
            "          15       0.00      0.00      0.00         4\n",
            "          16       1.00      0.99      1.00       342\n",
            "          17       1.00      0.65      0.79        40\n",
            "          18       0.98      0.97      0.97      1112\n",
            "          19       1.00      1.00      1.00        22\n",
            "          20       0.99      0.99      0.99       268\n",
            "          21       0.90      0.96      0.93        92\n",
            "          22       0.97      1.00      0.99       204\n",
            "          23       0.98      0.99      0.99       185\n",
            "          24       0.99      0.96      0.97       353\n",
            "          25       0.99      1.00      0.99        89\n",
            "          26       1.00      0.86      0.92        14\n",
            "          27       0.98      0.98      0.98       370\n",
            "          28       0.99      1.00      0.99       555\n",
            "          29       0.98      0.98      0.98       247\n",
            "          30       0.99      1.00      0.99        78\n",
            "          31       1.00      1.00      1.00       747\n",
            "          32       0.99      1.00      0.99       631\n",
            "          33       1.00      0.99      0.99        78\n",
            "          34       0.99      0.99      0.99       534\n",
            "          35       1.00      0.98      0.99        66\n",
            "          36       0.97      1.00      0.99        66\n",
            "          37       0.91      0.94      0.92        78\n",
            "          38       1.00      0.67      0.80        18\n",
            "          39       0.94      0.96      0.95       185\n",
            "          40       0.92      0.95      0.93        75\n",
            "          41       1.00      1.00      1.00       881\n",
            "          42       0.92      0.95      0.93       656\n",
            "          43       0.99      0.99      0.99       735\n",
            "          44       0.99      1.00      0.99       478\n",
            "          45       0.98      1.00      0.99       951\n",
            "          46       0.94      0.86      0.90        35\n",
            "          47       1.00      0.99      0.99       269\n",
            "          48       0.76      0.85      0.80        59\n",
            "          49       0.95      0.99      0.97       102\n",
            "          50       0.99      0.95      0.97        92\n",
            "          51       0.99      0.97      0.98        76\n",
            "          52       0.88      0.75      0.81        75\n",
            "          53       0.87      0.78      0.82       103\n",
            "          54       0.99      0.97      0.98       174\n",
            "          55       0.97      0.99      0.98       372\n",
            "          56       1.00      1.00      1.00        60\n",
            "          57       1.00      1.00      1.00        58\n",
            "          58       0.98      1.00      0.99        96\n",
            "          59       1.00      0.97      0.98       213\n",
            "\n",
            "    accuracy                           0.97     12146\n",
            "   macro avg       0.84      0.78      0.80     12146\n",
            "weighted avg       0.97      0.97      0.97     12146\n",
            "\n",
            "              precision    recall  f1-score   support\n",
            "\n",
            "           0       0.00      0.00      0.00         1\n",
            "           2       0.67      0.25      0.36         8\n",
            "           3       0.00      0.00      0.00         2\n",
            "           4       0.52      1.00      0.68        13\n",
            "           5       0.67      0.67      0.67         6\n",
            "           6       0.00      0.00      0.00         3\n",
            "           7       0.50      0.33      0.40         3\n",
            "           9       0.00      0.00      0.00         4\n",
            "          10       0.00      0.00      0.00         1\n",
            "          12       0.60      0.43      0.50         7\n",
            "          13       0.00      0.00      0.00         1\n",
            "          15       0.00      0.00      0.00         1\n",
            "          16       0.97      0.99      0.98        78\n",
            "          17       1.00      0.57      0.73         7\n",
            "          18       0.97      0.97      0.97       239\n",
            "          19       1.00      1.00      1.00         4\n",
            "          20       0.96      1.00      0.98        71\n",
            "          21       0.80      0.92      0.86        26\n",
            "          22       0.94      1.00      0.97        51\n",
            "          23       0.96      1.00      0.98        43\n",
            "          24       0.99      0.97      0.98        87\n",
            "          25       0.94      1.00      0.97        17\n",
            "          27       1.00      0.97      0.98        88\n",
            "          28       0.97      0.97      0.97       150\n",
            "          29       0.96      0.96      0.96        52\n",
            "          30       1.00      1.00      1.00        24\n",
            "          31       0.97      0.99      0.98       225\n",
            "          32       0.99      0.98      0.99       179\n",
            "          33       1.00      1.00      1.00        17\n",
            "          34       0.97      0.97      0.97       139\n",
            "          35       1.00      0.92      0.96        12\n",
            "          36       0.91      1.00      0.95        20\n",
            "          37       0.68      0.83      0.75        18\n",
            "          38       1.00      0.29      0.44         7\n",
            "          39       0.80      0.90      0.85        58\n",
            "          40       0.67      0.80      0.73        10\n",
            "          41       0.98      1.00      0.99       214\n",
            "          42       0.86      0.79      0.82       146\n",
            "          43       0.95      0.95      0.95       178\n",
            "          44       0.98      0.99      0.99       111\n",
            "          45       0.98      0.99      0.98       242\n",
            "          46       0.83      0.71      0.77         7\n",
            "          47       0.96      0.95      0.95        55\n",
            "          48       0.47      0.50      0.48        16\n",
            "          49       0.91      0.91      0.91        35\n",
            "          50       1.00      0.88      0.93        24\n",
            "          51       0.90      1.00      0.95         9\n",
            "          52       0.67      0.71      0.69        17\n",
            "          53       0.77      0.69      0.73        39\n",
            "          54       0.98      0.94      0.96        53\n",
            "          55       0.94      1.00      0.97        94\n",
            "          56       1.00      1.00      1.00        13\n",
            "          57       1.00      1.00      1.00        23\n",
            "          58       0.90      0.96      0.93        27\n",
            "          59       0.95      0.94      0.94        62\n",
            "\n",
            "    accuracy                           0.95      3037\n",
            "   macro avg       0.77      0.76      0.75      3037\n",
            "weighted avg       0.94      0.95      0.94      3037\n",
            "\n"
          ]
        },
        {
          "output_type": "stream",
          "name": "stderr",
          "text": [
            "/usr/local/lib/python3.7/dist-packages/sklearn/metrics/_classification.py:1318: UndefinedMetricWarning: Precision and F-score are ill-defined and being set to 0.0 in labels with no predicted samples. Use `zero_division` parameter to control this behavior.\n",
            "  _warn_prf(average, modifier, msg_start, len(result))\n",
            "/usr/local/lib/python3.7/dist-packages/sklearn/metrics/_classification.py:1318: UndefinedMetricWarning: Precision and F-score are ill-defined and being set to 0.0 in labels with no predicted samples. Use `zero_division` parameter to control this behavior.\n",
            "  _warn_prf(average, modifier, msg_start, len(result))\n",
            "/usr/local/lib/python3.7/dist-packages/sklearn/metrics/_classification.py:1318: UndefinedMetricWarning: Precision and F-score are ill-defined and being set to 0.0 in labels with no predicted samples. Use `zero_division` parameter to control this behavior.\n",
            "  _warn_prf(average, modifier, msg_start, len(result))\n",
            "/usr/local/lib/python3.7/dist-packages/sklearn/metrics/_classification.py:1318: UndefinedMetricWarning: Precision and F-score are ill-defined and being set to 0.0 in labels with no predicted samples. Use `zero_division` parameter to control this behavior.\n",
            "  _warn_prf(average, modifier, msg_start, len(result))\n",
            "/usr/local/lib/python3.7/dist-packages/sklearn/metrics/_classification.py:1318: UndefinedMetricWarning: Precision and F-score are ill-defined and being set to 0.0 in labels with no predicted samples. Use `zero_division` parameter to control this behavior.\n",
            "  _warn_prf(average, modifier, msg_start, len(result))\n",
            "/usr/local/lib/python3.7/dist-packages/sklearn/metrics/_classification.py:1318: UndefinedMetricWarning: Precision and F-score are ill-defined and being set to 0.0 in labels with no predicted samples. Use `zero_division` parameter to control this behavior.\n",
            "  _warn_prf(average, modifier, msg_start, len(result))\n"
          ]
        }
      ]
    },
    {
      "cell_type": "code",
      "source": [
        "resnet101.save(\"ResNet101_Model.h5\")"
      ],
      "metadata": {
        "id": "i8-X_6_cK_ij"
      },
      "execution_count": null,
      "outputs": []
    },
    {
      "cell_type": "markdown",
      "source": [
        "#### MobileNetV2"
      ],
      "metadata": {
        "id": "wKyBVtbU3BFj"
      }
    },
    {
      "cell_type": "code",
      "source": [
        "# MobileNetV2 with pretrained weights\n",
        "mobilenetv2 = tf.keras.applications.MobileNetV2(weights='imagenet', include_top=False)\n",
        "# add a global spatial average pooling layer\n",
        "x = mobilenetv2.output\n",
        "x = tf.keras.layers.GlobalAveragePooling2D()(x)\n",
        "# add a fully-connected layer\n",
        "x = tf.keras.layers.Dense(512, activation='relu')(x)\n",
        "# and a fully connected output/classification layer\n",
        "predictions = tf.keras.layers.Dense(60, activation='softmax')(x)\n",
        "# create the full network so we can train on it\n",
        "mobilenetv2 = Model(inputs=mobilenetv2.input, outputs=predictions)"
      ],
      "metadata": {
        "id": "JyPNbmXF3CGV",
        "colab": {
          "base_uri": "https://localhost:8080/"
        },
        "outputId": "bd38cc38-f0ca-47ba-a5cd-fce4815988e2"
      },
      "execution_count": null,
      "outputs": [
        {
          "output_type": "stream",
          "name": "stdout",
          "text": [
            "WARNING:tensorflow:`input_shape` is undefined or non-square, or `rows` is not in [96, 128, 160, 192, 224]. Weights for input shape (224, 224) will be loaded as the default.\n",
            "Downloading data from https://storage.googleapis.com/tensorflow/keras-applications/mobilenet_v2/mobilenet_v2_weights_tf_dim_ordering_tf_kernels_1.0_224_no_top.h5\n",
            "9412608/9406464 [==============================] - 0s 0us/step\n",
            "9420800/9406464 [==============================] - 0s 0us/step\n"
          ]
        }
      ]
    },
    {
      "cell_type": "code",
      "source": [
        "# Mobile Net V2\n",
        "mobilenetv2.compile(loss='categorical_crossentropy',\n",
        "              optimizer=tf.keras.optimizers.SGD(lr=1e-4, momentum=0.9),\n",
        "              metrics=['accuracy'])"
      ],
      "metadata": {
        "id": "PaAiYq623CJI",
        "colab": {
          "base_uri": "https://localhost:8080/"
        },
        "outputId": "cd1abff8-edc7-4ebe-e91e-251bb03006c5"
      },
      "execution_count": null,
      "outputs": [
        {
          "output_type": "stream",
          "name": "stderr",
          "text": [
            "/usr/local/lib/python3.7/dist-packages/keras/optimizer_v2/gradient_descent.py:102: UserWarning: The `lr` argument is deprecated, use `learning_rate` instead.\n",
            "  super(SGD, self).__init__(name, **kwargs)\n"
          ]
        }
      ]
    },
    {
      "cell_type": "code",
      "source": [
        "import tensorflow as tf\n",
        "from keras.callbacks import EarlyStopping, ModelCheckpoint, ReduceLROnPlateau\n",
        "\n",
        "with tf.device(\"/device:GPU:0\"):\n",
        "  earlyStopping = EarlyStopping(monitor='val_loss', patience=10, verbose=0, mode='min')\n",
        "  reduce_lr_loss = ReduceLROnPlateau(monitor='val_loss', factor=0.1, patience=7, verbose=1, epsilon=1e-4, mode='min')\n",
        "  model_checkpoint_callback = tf.keras.callbacks.ModelCheckpoint(\n",
        "    filepath='/',\n",
        "    save_weights_only=True,\n",
        "    monitor='val_loss',\n",
        "    mode='min',\n",
        "    save_best_only=True)\n",
        "  \n",
        "  mobilenetv2_history_pretrained = mobilenetv2.fit(X_train, y_train, epochs=10, shuffle = True, callbacks=[reduce_lr_loss, earlyStopping, model_checkpoint_callback], verbose = 1, validation_split=0.2)"
      ],
      "metadata": {
        "id": "76KuQkXa3CSQ",
        "colab": {
          "base_uri": "https://localhost:8080/"
        },
        "outputId": "fe4ef0c4-a51c-4434-bbee-837d053eac97"
      },
      "execution_count": null,
      "outputs": [
        {
          "output_type": "stream",
          "name": "stdout",
          "text": [
            "WARNING:tensorflow:`epsilon` argument is deprecated and will be removed, use `min_delta` instead.\n",
            "Epoch 1/10\n",
            "304/304 [==============================] - 14s 47ms/step - loss: 1.7735 - accuracy: 0.5866 - val_loss: 4.0369 - val_accuracy: 0.0868 - lr: 1.0000e-04\n",
            "Epoch 2/10\n",
            "304/304 [==============================] - 11s 35ms/step - loss: 1.5069 - accuracy: 0.6489 - val_loss: 4.0207 - val_accuracy: 0.1049 - lr: 1.0000e-04\n",
            "Epoch 3/10\n",
            "304/304 [==============================] - 11s 35ms/step - loss: 1.2375 - accuracy: 0.7080 - val_loss: 3.9513 - val_accuracy: 0.2033 - lr: 1.0000e-04\n",
            "Epoch 4/10\n",
            "304/304 [==============================] - 11s 37ms/step - loss: 1.0384 - accuracy: 0.7505 - val_loss: 3.7837 - val_accuracy: 0.3198 - lr: 1.0000e-04\n",
            "Epoch 5/10\n",
            "304/304 [==============================] - 11s 35ms/step - loss: 0.9056 - accuracy: 0.7781 - val_loss: 3.4750 - val_accuracy: 0.5123 - lr: 1.0000e-04\n",
            "Epoch 6/10\n",
            "304/304 [==============================] - 11s 37ms/step - loss: 0.7833 - accuracy: 0.8067 - val_loss: 3.0897 - val_accuracy: 0.6885 - lr: 1.0000e-04\n",
            "Epoch 7/10\n",
            "304/304 [==============================] - 11s 35ms/step - loss: 0.6806 - accuracy: 0.8316 - val_loss: 2.5837 - val_accuracy: 0.7374 - lr: 1.0000e-04\n",
            "Epoch 8/10\n",
            "304/304 [==============================] - 11s 35ms/step - loss: 0.6050 - accuracy: 0.8520 - val_loss: 2.1471 - val_accuracy: 0.7914 - lr: 1.0000e-04\n",
            "Epoch 9/10\n",
            "304/304 [==============================] - 11s 35ms/step - loss: 0.5533 - accuracy: 0.8620 - val_loss: 1.6074 - val_accuracy: 0.8531 - lr: 1.0000e-04\n",
            "Epoch 10/10\n",
            "304/304 [==============================] - 11s 37ms/step - loss: 0.4887 - accuracy: 0.8782 - val_loss: 1.1447 - val_accuracy: 0.8868 - lr: 1.0000e-04\n"
          ]
        }
      ]
    },
    {
      "cell_type": "code",
      "source": [
        "import matplotlib.pyplot as plt\n",
        "# summarize history for accuracy\n",
        "plt.plot(mobilenetv2_history_pretrained.history['accuracy'], label='Training Accuracy')\n",
        "plt.plot(mobilenetv2_history_pretrained.history['val_accuracy'], label='Validation Accuracy')\n",
        "plt.title('Accuracy')\n",
        "plt.ylabel('Accuracy(Training and Validation)')\n",
        "plt.xlabel('epoch')\n",
        "plt.legend(loc='lower right')\n",
        "#plt.legend(['Training'],['Validation'], loc='upper left')\n",
        "plt.title('Training and Validation Accuracy')\n",
        "\n",
        "#plt.legend(['Pretrained'], loc='upper left')\n",
        "plt.show()\n",
        "# summarize history for loss\n",
        "plt.plot(mobilenetv2_history_pretrained.history['loss'], label='Training Loss')\n",
        "plt.plot(mobilenetv2_history_pretrained.history['val_loss'], label='Validation Loss')\n",
        "plt.title('Loss')\n",
        "plt.ylabel('Loss(Training and Validation)')\n",
        "plt.xlabel('epoch')\n",
        "#plt.legend(loc='upper right')\n",
        "plt.title('Training and Validation Loss')\n",
        "#plt.legend(loc='upper right')\n",
        "plt.legend(loc='upper right')\n",
        "plt.show()"
      ],
      "metadata": {
        "id": "DfOOlaGU3CY9",
        "colab": {
          "base_uri": "https://localhost:8080/",
          "height": 573
        },
        "outputId": "5249f6ac-d325-4667-af67-bd9932249d2e"
      },
      "execution_count": null,
      "outputs": [
        {
          "output_type": "display_data",
          "data": {
            "text/plain": [
              "<Figure size 432x288 with 1 Axes>"
            ],
            "image/png": "[encoded data removed]"
          },
          "metadata": {
            "needs_background": "light"
          }
        },
        {
          "output_type": "display_data",
          "data": {
            "text/plain": [
              "<Figure size 432x288 with 1 Axes>"
            ],
            "image/png": "[encoded data removed]"
          },
          "metadata": {
            "needs_background": "light"
          }
        }
      ]
    },
    {
      "cell_type": "code",
      "source": [
        "# Training, Validation Accuracy and Loss\n",
        "import statistics\n",
        "#data = [accuracy']\n",
        "x = statistics.mean(mobilenetv2_history_pretrained.history['accuracy'])\n",
        "print(\"Training Accuracy: \", x)\n",
        "\n",
        "y = statistics.mean(mobilenetv2_history_pretrained.history['loss'])\n",
        "print(\"Training Loss: \", y)\n",
        "\n",
        "x1 = statistics.mean(mobilenetv2_history_pretrained.history['val_accuracy'])\n",
        "print(\"Validation Accuracy: \",x1)\n",
        "\n",
        "y1 = statistics.mean(mobilenetv2_history_pretrained.history['val_loss'])\n",
        "print(\"Validation Loss: \",y1)"
      ],
      "metadata": {
        "id": "sVARjOABKlSw",
        "colab": {
          "base_uri": "https://localhost:8080/"
        },
        "outputId": "cb1cf662-3625-46a3-ed7c-ad8a0f6239ff"
      },
      "execution_count": null,
      "outputs": [
        {
          "output_type": "stream",
          "name": "stdout",
          "text": [
            "Training Accuracy:  0.7702655494213104\n",
            "Training Loss:  0.957272732257843\n",
            "Validation Accuracy:  0.5184362135827542\n",
            "Validation Loss:  2.984019160270691\n"
          ]
        }
      ]
    },
    {
      "cell_type": "code",
      "source": [
        "train_predictions = mobilenetv2.predict(X_train)\n",
        "test_predictions = mobilenetv2.predict(X_test)\n",
        "\n",
        "print(\"Train Data: \"+str(accuracy_score(y_train.argmax(axis=-1), train_predictions.argmax(axis=-1))))\n",
        "print(\"Test Data: \"+str(accuracy_score(y_test.argmax(axis=-1), test_predictions.argmax(axis=-1))))\n",
        "# Train Data Classification Report\n",
        "print(classification_report(y_train.argmax(axis=-1), train_predictions.argmax(axis=-1)))\n",
        "# Test Data Classification Report\n",
        "print(classification_report(y_test.argmax(axis=-1), test_predictions.argmax(axis=-1)))"
      ],
      "metadata": {
        "id": "BkUpj1niKmVJ",
        "colab": {
          "base_uri": "https://localhost:8080/"
        },
        "outputId": "26f8f1c1-79bf-479b-be7d-07c140002308"
      },
      "execution_count": null,
      "outputs": [
        {
          "output_type": "stream",
          "name": "stdout",
          "text": [
            "Train Data: 0.9095175366375762\n",
            "Test Data: 0.8939743167599605\n",
            "              precision    recall  f1-score   support\n",
            "\n",
            "           0       0.00      0.00      0.00         1\n",
            "           1       0.00      0.00      0.00         2\n",
            "           2       0.00      0.00      0.00        32\n",
            "           3       0.00      0.00      0.00        10\n",
            "           4       0.44      0.97      0.60        69\n",
            "           5       0.00      0.00      0.00        21\n",
            "           6       0.00      0.00      0.00         3\n",
            "           7       0.91      0.62      0.74        16\n",
            "           8       0.00      0.00      0.00         1\n",
            "           9       0.00      0.00      0.00        10\n",
            "          10       0.00      0.00      0.00        12\n",
            "          11       0.00      0.00      0.00         4\n",
            "          12       0.00      0.00      0.00        13\n",
            "          13       0.00      0.00      0.00         8\n",
            "          14       0.00      0.00      0.00         6\n",
            "          15       0.00      0.00      0.00         4\n",
            "          16       0.99      0.97      0.98       342\n",
            "          17       0.46      0.15      0.23        40\n",
            "          18       0.98      0.97      0.98      1112\n",
            "          19       0.00      0.00      0.00        22\n",
            "          20       1.00      0.97      0.98       268\n",
            "          21       0.52      0.90      0.66        92\n",
            "          22       0.98      0.91      0.94       204\n",
            "          23       0.88      0.95      0.91       185\n",
            "          24       0.97      0.96      0.97       353\n",
            "          25       0.89      0.91      0.90        89\n",
            "          26       0.00      0.00      0.00        14\n",
            "          27       0.92      0.90      0.91       370\n",
            "          28       0.96      0.99      0.97       555\n",
            "          29       0.82      0.95      0.88       247\n",
            "          30       0.96      0.62      0.75        78\n",
            "          31       0.95      0.99      0.97       747\n",
            "          32       0.95      0.97      0.96       631\n",
            "          33       0.95      0.90      0.92        78\n",
            "          34       0.95      0.98      0.96       534\n",
            "          35       0.89      0.97      0.93        66\n",
            "          36       0.87      0.50      0.63        66\n",
            "          37       0.82      0.47      0.60        78\n",
            "          38       1.00      0.61      0.76        18\n",
            "          39       0.85      0.80      0.82       185\n",
            "          40       0.69      0.69      0.69        75\n",
            "          41       0.95      0.99      0.97       881\n",
            "          42       0.73      0.83      0.78       656\n",
            "          43       0.96      0.95      0.95       735\n",
            "          44       0.97      1.00      0.98       478\n",
            "          45       0.95      0.99      0.97       951\n",
            "          46       0.60      0.26      0.36        35\n",
            "          47       0.98      0.89      0.93       269\n",
            "          48       0.39      0.49      0.43        59\n",
            "          49       0.78      0.92      0.84       102\n",
            "          50       0.89      0.92      0.91        92\n",
            "          51       0.97      0.37      0.53        76\n",
            "          52       0.78      0.99      0.87        75\n",
            "          53       0.49      0.40      0.44       103\n",
            "          54       0.92      0.88      0.90       174\n",
            "          55       0.95      0.97      0.96       372\n",
            "          56       0.82      0.77      0.79        60\n",
            "          57       1.00      0.05      0.10        58\n",
            "          58       0.95      0.97      0.96        96\n",
            "          59       0.93      0.87      0.90       213\n",
            "\n",
            "    accuracy                           0.91     12146\n",
            "   macro avg       0.63      0.59      0.59     12146\n",
            "weighted avg       0.90      0.91      0.90     12146\n",
            "\n",
            "              precision    recall  f1-score   support\n",
            "\n",
            "           0       0.00      0.00      0.00         1\n",
            "           2       0.00      0.00      0.00         8\n",
            "           3       0.00      0.00      0.00         2\n",
            "           4       0.31      0.92      0.46        13\n",
            "           5       0.00      0.00      0.00         6\n",
            "           6       0.00      0.00      0.00         3\n",
            "           7       0.00      0.00      0.00         3\n",
            "           9       0.00      0.00      0.00         4\n",
            "          10       0.00      0.00      0.00         1\n",
            "          12       0.00      0.00      0.00         7\n",
            "          13       0.00      0.00      0.00         1\n",
            "          15       0.00      0.00      0.00         1\n",
            "          16       0.95      0.95      0.95        78\n",
            "          17       0.67      0.29      0.40         7\n",
            "          18       0.98      0.97      0.98       239\n",
            "          19       0.00      0.00      0.00         4\n",
            "          20       1.00      0.99      0.99        71\n",
            "          21       0.57      0.96      0.71        26\n",
            "          22       0.96      0.92      0.94        51\n",
            "          23       0.89      0.98      0.93        43\n",
            "          24       0.99      1.00      0.99        87\n",
            "          25       0.74      0.82      0.78        17\n",
            "          27       0.89      0.86      0.88        88\n",
            "          28       0.95      0.99      0.97       150\n",
            "          29       0.75      0.92      0.83        52\n",
            "          30       0.94      0.62      0.75        24\n",
            "          31       0.97      0.99      0.98       225\n",
            "          32       0.96      1.00      0.98       179\n",
            "          33       0.89      0.94      0.91        17\n",
            "          34       0.88      0.98      0.93       139\n",
            "          35       0.91      0.83      0.87        12\n",
            "          36       1.00      0.60      0.75        20\n",
            "          37       0.71      0.56      0.63        18\n",
            "          38       1.00      0.29      0.44         7\n",
            "          39       0.92      0.76      0.83        58\n",
            "          40       0.45      0.90      0.60        10\n",
            "          41       0.94      1.00      0.97       214\n",
            "          42       0.64      0.71      0.67       146\n",
            "          43       0.95      0.90      0.93       178\n",
            "          44       0.94      0.99      0.96       111\n",
            "          45       0.97      0.99      0.98       242\n",
            "          46       0.00      0.00      0.00         7\n",
            "          47       0.98      0.84      0.90        55\n",
            "          48       0.20      0.19      0.19        16\n",
            "          49       0.78      0.91      0.84        35\n",
            "          50       0.88      0.88      0.88        24\n",
            "          51       1.00      0.22      0.36         9\n",
            "          52       0.77      1.00      0.87        17\n",
            "          53       0.52      0.41      0.46        39\n",
            "          54       0.92      0.83      0.87        53\n",
            "          55       0.92      0.98      0.95        94\n",
            "          56       1.00      0.69      0.82        13\n",
            "          57       0.00      0.00      0.00        23\n",
            "          58       0.92      0.85      0.88        27\n",
            "          59       0.89      0.82      0.86        62\n",
            "\n",
            "    accuracy                           0.89      3037\n",
            "   macro avg       0.63      0.60      0.60      3037\n",
            "weighted avg       0.88      0.89      0.88      3037\n",
            "\n"
          ]
        },
        {
          "output_type": "stream",
          "name": "stderr",
          "text": [
            "/usr/local/lib/python3.7/dist-packages/sklearn/metrics/_classification.py:1318: UndefinedMetricWarning: Precision and F-score are ill-defined and being set to 0.0 in labels with no predicted samples. Use `zero_division` parameter to control this behavior.\n",
            "  _warn_prf(average, modifier, msg_start, len(result))\n",
            "/usr/local/lib/python3.7/dist-packages/sklearn/metrics/_classification.py:1318: UndefinedMetricWarning: Precision and F-score are ill-defined and being set to 0.0 in labels with no predicted samples. Use `zero_division` parameter to control this behavior.\n",
            "  _warn_prf(average, modifier, msg_start, len(result))\n",
            "/usr/local/lib/python3.7/dist-packages/sklearn/metrics/_classification.py:1318: UndefinedMetricWarning: Precision and F-score are ill-defined and being set to 0.0 in labels with no predicted samples. Use `zero_division` parameter to control this behavior.\n",
            "  _warn_prf(average, modifier, msg_start, len(result))\n",
            "/usr/local/lib/python3.7/dist-packages/sklearn/metrics/_classification.py:1318: UndefinedMetricWarning: Precision and F-score are ill-defined and being set to 0.0 in labels with no predicted samples. Use `zero_division` parameter to control this behavior.\n",
            "  _warn_prf(average, modifier, msg_start, len(result))\n",
            "/usr/local/lib/python3.7/dist-packages/sklearn/metrics/_classification.py:1318: UndefinedMetricWarning: Precision and F-score are ill-defined and being set to 0.0 in labels with no predicted samples. Use `zero_division` parameter to control this behavior.\n",
            "  _warn_prf(average, modifier, msg_start, len(result))\n",
            "/usr/local/lib/python3.7/dist-packages/sklearn/metrics/_classification.py:1318: UndefinedMetricWarning: Precision and F-score are ill-defined and being set to 0.0 in labels with no predicted samples. Use `zero_division` parameter to control this behavior.\n",
            "  _warn_prf(average, modifier, msg_start, len(result))\n"
          ]
        }
      ]
    },
    {
      "cell_type": "code",
      "source": [
        "mobilenetv2.save(\"MobileNetV2_Model.h5\")"
      ],
      "metadata": {
        "id": "pJo2qSvaK5wv"
      },
      "execution_count": null,
      "outputs": []
    }
  ]
}