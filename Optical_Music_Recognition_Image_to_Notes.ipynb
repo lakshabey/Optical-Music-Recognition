{
  "nbformat": 4,
  "nbformat_minor": 0,
  "metadata": {
    "colab": {
      "name": "Optical Music Recognition - Image to Notes.ipynb",
      "provenance": [],
      "collapsed_sections": [
        "TibVMRthJAXa",
        "OeVC03KwJ4pv",
        "76AjDT13JDRB",
        "uBPpGlbXKBbx",
        "q_GZH3mTJqAc",
        "_VnO1AjCJiZk",
        "4H2N3IPvKLwd",
        "6pKlxi9jJDuC",
        "KLcR-z-oNy2K"
      ]
    },
    "kernelspec": {
      "name": "python3",
      "display_name": "Python 3"
    },
    "language_info": {
      "name": "python"
    }
  },
  "cells": [
    {
      "cell_type": "code",
      "execution_count": null,
      "metadata": {
        "id": "mBSxaDQjqmpf"
      },
      "outputs": [],
      "source": [
        "# from commonfunctions import *\n",
        "# from pre_processing import *\n",
        "# from staff import calculate_thickness_spacing, remove_staff_lines, coordinator\n",
        "# from segmenter import Segmenter\n",
        "# from connected_componentes import  *\n",
        "# from fit import predict\n",
        "# from box import Box\n",
        "import glob\n",
        "import cv2\n",
        "import pickle\n",
        "from imutils import resize as im_resize\n",
        "from scipy.ndimage import binary_fill_holes\n",
        "from skimage.morphology import skeletonize, thin\n",
        "from skimage.transform import resize"
      ]
    },
    {
      "cell_type": "markdown",
      "source": [
        "## Loading Code From External Python files"
      ],
      "metadata": {
        "id": "TibVMRthJAXa"
      }
    },
    {
      "cell_type": "markdown",
      "source": [
        "### box.py"
      ],
      "metadata": {
        "id": "OeVC03KwJ4pv"
      }
    },
    {
      "cell_type": "code",
      "source": [
        "import cv2\n",
        "import math\n",
        "\n",
        "class Box(object):\n",
        "    def __init__(self, x, y, w, h):\n",
        "        self.x = x\n",
        "        self.y = y\n",
        "        self.w = w\n",
        "        self.h = h\n",
        "        self.center = x + w/2, self.y+self.h/2\n",
        "        self.area = w*h\n",
        "    \n",
        "    def overlap(self, other):\n",
        "        x = max(0, min(self.x+self.w, other.x+other.w) - max(other.x, self.x))\n",
        "        y = max(0, min(self.y+self.h, other.y+other.h) - max(other.y, self.y))\n",
        "        area = x*y\n",
        "        return area/self.area\n",
        "    \n",
        "    def distance(self, other):\n",
        "        return math.sqrt((self.center[0]-other.center[0])**2+(self.center[1]-other.center[1])**2)\n",
        "    \n",
        "    def merge(self, other):\n",
        "        x = min(self.x, other.x)\n",
        "        y = max(self.y, other.y)\n",
        "        w = max(self.x+self.w, other.x+other.w) - x\n",
        "        h = max(self.y+self.h, other.y+other.h) - y\n",
        "        return Box(x, y, w, h)\n",
        "    \n",
        "    def draw(self, img, color, thickness):\n",
        "        pos = ((int)(self.x), (int)(self.y))\n",
        "        size = ((int)(self.x + self.w), (int)(self.y + self.h))\n",
        "        cv2.rectangle(img, pos, size, color, thickness)"
      ],
      "metadata": {
        "id": "8S2LsTnFJ4vu"
      },
      "execution_count": null,
      "outputs": []
    },
    {
      "cell_type": "markdown",
      "source": [
        "### commonfunctions.py"
      ],
      "metadata": {
        "id": "76AjDT13JDRB"
      }
    },
    {
      "cell_type": "code",
      "source": [
        "import skimage.io as io\n",
        "import matplotlib.pyplot as plt\n",
        "import numpy as np\n",
        "from skimage.exposure import histogram\n",
        "from matplotlib.pyplot import bar\n",
        "from skimage.color import rgb2gray\n",
        "from skimage.filters import threshold_otsu, gaussian, median\n",
        "from skimage.morphology import binary_opening, binary_closing, binary_dilation, binary_erosion, closing, opening, square, skeletonize, disk\n",
        "from skimage.feature import canny\n",
        "from skimage.transform import resize\n",
        "\n",
        "\n",
        "def show_images(images, titles=None):\n",
        "    n_ims = len(images)\n",
        "    if titles is None:\n",
        "        titles = ['(%d)' % i for i in range(1, n_ims + 1)]\n",
        "    fig = plt.figure()\n",
        "    n = 1\n",
        "    for image, title in zip(images, titles):\n",
        "        a = fig.add_subplot(1, n_ims, n)\n",
        "        if image.ndim == 2:\n",
        "            plt.gray()\n",
        "        plt.imshow(image)\n",
        "        a.set_title(title)\n",
        "        plt.axis('off')\n",
        "        n += 1\n",
        "    fig.set_size_inches(np.array(fig.get_size_inches()) * n_ims)\n",
        "    plt.show()\n",
        "\n",
        "\n",
        "def showHist(img):\n",
        "    plt.figure()\n",
        "    imgHist = histogram(img, nbins=256)\n",
        "\n",
        "    bar(imgHist[1].astype(np.uint8), imgHist[0], width=0.8, align='center')\n",
        "\n",
        "\n",
        "def gray_img(img):\n",
        "    '''\n",
        "    img: rgb image\n",
        "    return: gray image, pixel values 0:255\n",
        "    '''\n",
        "    gray = rgb2gray(img)\n",
        "    if len(img.shape) == 3:\n",
        "        gray = gray*255\n",
        "    return gray\n",
        "\n",
        "\n",
        "def otsu(img):\n",
        "    '''\n",
        "    Otsu with gaussian\n",
        "    img: gray image\n",
        "    return: binary image, pixel values 0:1\n",
        "    '''\n",
        "    blur = gaussian(img)\n",
        "    otsu_bin = 255*(blur > threshold_otsu(blur))\n",
        "    return (otsu_bin/255).astype(np.int32)\n",
        "\n",
        "\n",
        "def get_gray(img):\n",
        "    gray = rgb2gray(np.copy(img))\n",
        "    return gray\n",
        "\n",
        "\n",
        "def get_thresholded(img, thresh):\n",
        "    return 1*(img > thresh)\n",
        "\n",
        "\n",
        "def histogram(img, thresh):\n",
        "    hist = (np.ones(img.shape) - img).sum(dtype=np.int32, axis=1)\n",
        "    _max = np.amax(hist)\n",
        "    hist[hist[:] < _max * thresh] = 0\n",
        "    return hist\n",
        "\n",
        "\n",
        "def get_line_indices(hist):\n",
        "    indices = []\n",
        "    prev = 0\n",
        "    for index, val in enumerate(hist):\n",
        "        if val > 0 and prev <= 0:\n",
        "            indices.append(index)\n",
        "        prev = val\n",
        "    return indices\n",
        "\n",
        "\n",
        "def get_region_lines_indices(self, region):\n",
        "    indices = get_line_indices(histogram(region, 0.8))\n",
        "    lines = []\n",
        "    for line_index in indices:\n",
        "        line = []\n",
        "        for k in range(self.thickness):\n",
        "            line.append(line_index+k)\n",
        "        lines.append(line)\n",
        "    self.rows.append([np.average(x) for x in lines])"
      ],
      "metadata": {
        "id": "489Ir4mMJAd9"
      },
      "execution_count": null,
      "outputs": []
    },
    {
      "cell_type": "markdown",
      "source": [
        "### connected_components.py"
      ],
      "metadata": {
        "id": "uBPpGlbXKBbx"
      }
    },
    {
      "cell_type": "code",
      "source": [
        "from skimage.measure import label, regionprops\n",
        "from skimage.color import label2rgb\n",
        "\n",
        "def get_connected_components(img_without_staff, img_with_staff):\n",
        "    components = []\n",
        "    boundary = []\n",
        "    # thresh = threshold_otsu(img_without_staff)\n",
        "    # bw = closing(img_without_staff <= thresh, square(3))\n",
        "    bw = 1-img_without_staff\n",
        "    label_img = label(bw)\n",
        "    img_label_overlay = label2rgb(\n",
        "        label_img, image=img_without_staff, bg_label=0)\n",
        "    for region in regionprops(label_img):\n",
        "        if region.area >= 100:\n",
        "            boundary.append(region.bbox)\n",
        "\n",
        "    boundary = sorted(boundary, key=lambda b: b[1])\n",
        "\n",
        "    comp_with_staff = []\n",
        "    for bbox in boundary:\n",
        "        minr, minc, maxr, maxc = bbox\n",
        "        components.append(img_without_staff[minr:maxr, minc:maxc])\n",
        "        comp_with_staff.append(img_with_staff[minr:maxr, minc:maxc])\n",
        "    return components, comp_with_staff, boundary"
      ],
      "metadata": {
        "id": "t4qQAZCgKBiS"
      },
      "execution_count": null,
      "outputs": []
    },
    {
      "cell_type": "markdown",
      "source": [
        "### rle.py"
      ],
      "metadata": {
        "id": "q_GZH3mTJqAc"
      }
    },
    {
      "cell_type": "code",
      "source": [
        "import numpy as np\n",
        "\n",
        "def rle_encode(arr):\n",
        "    if len(arr) == 0:\n",
        "        return [], [], []\n",
        "\n",
        "    x = np.copy(arr)\n",
        "    first_dismatch = np.array(x[1:] != x[:-1])\n",
        "    distmatch_positions = np.append(np.where(first_dismatch), len(x)-1)\n",
        "    rle = np.diff(np.append(-1, distmatch_positions))\n",
        "    values = [x[i] for i in np.cumsum(np.append(0, rle))[:-1]]\n",
        "    return rle, values\n",
        "\n",
        "\n",
        "def hv_rle(img, axis=1):\n",
        "    '''\n",
        "    img: binary image\n",
        "    axis: 0 for rows, 1 for cols\n",
        "    '''\n",
        "    rle, values = [], []\n",
        "\n",
        "    if axis == 1:\n",
        "        for i in range(img.shape[1]):\n",
        "            col_rle, col_values = rle_encode(img[:, i])\n",
        "            rle.append(col_rle)\n",
        "            values.append(col_values)\n",
        "    else:\n",
        "        for i in range(img.shape[0]):\n",
        "            row_rle, row_values = rle_encode(img[i])\n",
        "            rle.append(row_rle)\n",
        "            values.append(row_values)\n",
        "\n",
        "    return rle, values\n",
        "\n",
        "\n",
        "def rle_decode(starts, lengths, values):\n",
        "    starts, lengths, values = map(np.asarray, (starts, lengths, values))\n",
        "    ends = starts + lengths\n",
        "    n = ends[-1]\n",
        "\n",
        "    x = np.full(n, np.nan)\n",
        "    for lo, hi, val in zip(starts, ends, values):\n",
        "        x[lo:hi] = val\n",
        "    return x\n",
        "\n",
        "\n",
        "def hv_decode(rle, values, output_shape, axis=1):\n",
        "    starts = [[int(np.sum(arr[:i])) for i in range(len(arr))] for arr in rle]\n",
        "\n",
        "    decoded = np.zeros(output_shape, dtype=np.int32)\n",
        "    if axis == 1:\n",
        "        for i in range(decoded.shape[1]):\n",
        "            decoded[:, i] = rle_decode(starts[i], rle[i], values[i])\n",
        "    else:\n",
        "        for i in range(decoded.shape[0]):\n",
        "            decoded[i] = rle_decode(starts[i], rle[i], values[i])\n",
        "\n",
        "    return decoded\n",
        "\n",
        "\n",
        "def calculate_pair_sum(arr):\n",
        "    if len(arr) == 1:\n",
        "        return list(arr)\n",
        "    else:\n",
        "        res = [arr[i] + arr[i + 1] for i in range(0, len(arr) - 1, 2)]\n",
        "        if len(arr) % 2 == 1:\n",
        "            res.append(arr[-2] + arr[-1])\n",
        "        return res\n",
        "\n",
        "\n",
        "def get_most_common(rle):\n",
        "    pair_sum = [calculate_pair_sum(col) for col in rle]\n",
        "\n",
        "    flattened = []\n",
        "    for col in pair_sum:\n",
        "        flattened += col\n",
        "\n",
        "    most_common = np.argmax(np.bincount(flattened))\n",
        "    return most_common\n",
        "\n",
        "\n",
        "def most_common_bw_pattern(arr, most_common):\n",
        "    if len(arr) == 1:\n",
        "        # print(\"Empty\")\n",
        "        return []\n",
        "    else:\n",
        "        res = [(arr[i], arr[i + 1]) for i in range(0, len(arr) - 1, 2)\n",
        "               if arr[i] + arr[i + 1] == most_common]\n",
        "\n",
        "        if len(arr) % 2 == 1 and arr[-2] + arr[-1] == most_common:\n",
        "            res.append((arr[-2], arr[-1]))\n",
        "        # print(res)\n",
        "        return res"
      ],
      "metadata": {
        "id": "70rxLwYYJqvR"
      },
      "execution_count": null,
      "outputs": []
    },
    {
      "cell_type": "markdown",
      "source": [
        "### staff.py"
      ],
      "metadata": {
        "id": "_VnO1AjCJiZk"
      }
    },
    {
      "cell_type": "code",
      "source": [
        "from collections import Counter\n",
        "\n",
        "row_percentage = 0.3\n",
        "\n",
        "def calculate_thickness_spacing(rle, most_common):\n",
        "    bw_patterns = [most_common_bw_pattern(col, most_common) for col in rle]\n",
        "    bw_patterns = [x for x in bw_patterns if x]  # Filter empty patterns\n",
        "\n",
        "    flattened = []\n",
        "    for col in bw_patterns:\n",
        "        flattened += col\n",
        "\n",
        "    pair, count = Counter(flattened).most_common()[0]\n",
        "\n",
        "    line_thickness = min(pair)\n",
        "    line_spacing = max(pair)\n",
        "\n",
        "    return line_thickness, line_spacing\n",
        "\n",
        "\n",
        "def whitene(rle, vals, max_height):\n",
        "    rlv = []\n",
        "    for length, value in zip(rle, vals):\n",
        "        if value == 0 and length < 1.1*max_height:\n",
        "            value = 1\n",
        "        rlv.append((length, value))\n",
        "\n",
        "    n_rle, n_vals = [], []\n",
        "    count = 0\n",
        "    for length, value in rlv:\n",
        "        if value == 1:\n",
        "            count = count + length\n",
        "        else:\n",
        "            if count > 0:\n",
        "                n_rle.append(count)\n",
        "                n_vals.append(1)\n",
        "\n",
        "            count = 0\n",
        "            n_rle.append(length)\n",
        "            n_vals.append(0)\n",
        "    if count > 0:\n",
        "        n_rle.append(count)\n",
        "        n_vals.append(1)\n",
        "\n",
        "    return n_rle, n_vals\n",
        "\n",
        "\n",
        "def remove_staff_lines(rle, vals, thickness, shape):\n",
        "    n_rle, n_vals = [], []\n",
        "    for i in range(len(rle)):\n",
        "        rl, val = whitene(rle[i], vals[i], thickness)\n",
        "        n_rle.append(rl)\n",
        "        n_vals.append(val)\n",
        "\n",
        "    return hv_decode(n_rle, n_vals, shape)\n",
        "\n",
        "\n",
        "def remove_staff_lines_2(thickness, img_with_staff):\n",
        "    img = img_with_staff.copy()\n",
        "    projected = []\n",
        "    rows, cols = img.shape\n",
        "    for i in range(rows):\n",
        "        proj_sum = 0\n",
        "        for j in range(cols):\n",
        "            proj_sum += img[i][j] == 1\n",
        "        projected.append([1]*proj_sum + [0]*(cols-proj_sum))\n",
        "        if(proj_sum <= row_percentage*cols):\n",
        "            img[i, :] = 1\n",
        "    closed = binary_opening(img, np.ones((3*thickness, 1)))\n",
        "    return closed\n",
        "\n",
        "\n",
        "def get_rows(start, most_common, thickness, spacing):\n",
        "    # start = start-most_common\n",
        "    rows = []\n",
        "    num = 6\n",
        "    if start - most_common >= 0:\n",
        "        start -= most_common\n",
        "        num = 7\n",
        "    for k in range(num):\n",
        "        row = []\n",
        "        for i in range(thickness):\n",
        "            row.append(start)\n",
        "            start += 1\n",
        "        start += (spacing)\n",
        "        rows.append(row)\n",
        "    if len(rows) == 6:\n",
        "        rows = [0] + rows\n",
        "    return rows\n",
        "\n",
        "\n",
        "def horizontal_projection(img):\n",
        "    projected = []\n",
        "    rows, cols = img.shape\n",
        "    for i in range(rows):\n",
        "        proj_sum = 0\n",
        "        for j in range(cols):\n",
        "            proj_sum += img[i][j] == 1\n",
        "        projected.append([1]*proj_sum + [0]*(cols-proj_sum))\n",
        "        if(proj_sum <= 0.1*cols):\n",
        "            return i\n",
        "    return 0\n",
        "\n",
        "\n",
        "def get_staff_row_position(img):\n",
        "    found = 0\n",
        "    row_position = -1\n",
        "    for i in range(img.shape[0]):\n",
        "        for j in range(img.shape[1]):\n",
        "            if(img[i][j] == 0):\n",
        "                row_position = i\n",
        "                found = 1\n",
        "                break\n",
        "        if found == 1:\n",
        "            break\n",
        "    return row_position\n",
        "\n",
        "\n",
        "def coordinator(bin_img, horizontal):\n",
        "    rle, vals = hv_rle(bin_img)\n",
        "    most_common = get_most_common(rle)\n",
        "    thickness, spacing = calculate_thickness_spacing(rle, most_common)\n",
        "    start = 0\n",
        "    if horizontal:\n",
        "        no_staff_img = remove_staff_lines_2(thickness, bin_img)\n",
        "        staff_lines = otsu(bin_img - no_staff_img)\n",
        "        start = horizontal_projection(bin_img)\n",
        "    else:\n",
        "        no_staff_img = remove_staff_lines(rle, vals, thickness, bin_img.shape)\n",
        "        no_staff_img = binary_closing(\n",
        "            no_staff_img, np.ones((thickness+2, thickness+2)))\n",
        "        no_staff_img = median(no_staff_img)\n",
        "        no_staff_img = binary_opening(\n",
        "            no_staff_img, np.ones((thickness+2, thickness+2)))\n",
        "        staff_lines = otsu(bin_img - no_staff_img)\n",
        "        staff_lines = binary_erosion(\n",
        "            staff_lines, np.ones((thickness+2, thickness+2)))\n",
        "        staff_lines = median(staff_lines, selem=square(21))\n",
        "        start = get_staff_row_position(staff_lines)\n",
        "    staff_row_positions = get_rows(\n",
        "        start, most_common, thickness, spacing)\n",
        "    staff_row_positions = [np.average(x) for x in staff_row_positions]\n",
        "    return spacing, staff_row_positions, no_staff_img"
      ],
      "metadata": {
        "id": "X3gq4FllJigC"
      },
      "execution_count": null,
      "outputs": []
    },
    {
      "cell_type": "markdown",
      "source": [
        "### segmenter.py"
      ],
      "metadata": {
        "id": "4H2N3IPvKLwd"
      }
    },
    {
      "cell_type": "code",
      "source": [
        "class Segmenter(object):\n",
        "    def __init__(self, bin_img):\n",
        "        self.bin_img = bin_img\n",
        "        self.rle, self.vals = hv_rle(self.bin_img)\n",
        "        self.most_common = get_most_common(self.rle)\n",
        "        self.thickness, self.spacing = calculate_thickness_spacing(\n",
        "            self.rle, self.most_common)\n",
        "        self.thick_space = self.thickness + self.spacing\n",
        "        self.no_staff_img = remove_staff_lines(\n",
        "            self.rle, self.vals, self.thickness, self.bin_img.shape)\n",
        "\n",
        "        self.segment()\n",
        "\n",
        "    def open_region(self, region):\n",
        "        thickness = np.copy(self.thickness)\n",
        "        # if thickness % 2 == 0:\n",
        "        #     thickness += 1\n",
        "        return opening(region, np.ones((thickness, thickness)))\n",
        "\n",
        "    def segment(self):\n",
        "        self.line_indices = get_line_indices(histogram(self.bin_img, 0.8))\n",
        "        if len(self.line_indices) < 10:\n",
        "            self.regions_without_staff = [\n",
        "                np.copy(self.open_region(self.no_staff_img))]\n",
        "            self.regions_with_staff = [np.copy(self.bin_img)]\n",
        "            return\n",
        "\n",
        "        generated_lines_img = np.copy(self.no_staff_img)\n",
        "        lines = []\n",
        "        for index in self.line_indices:\n",
        "            line = ((0, index), (self.bin_img.shape[1]-1, index))\n",
        "            lines.append(line)\n",
        "\n",
        "        end_of_staff = []\n",
        "        for index, line in enumerate(lines):\n",
        "            if index > 0 and (line[0][1] - end_of_staff[-1][1] < 4*self.spacing):\n",
        "                pass\n",
        "            else:\n",
        "                p1, p2 = line\n",
        "                x0, y0 = p1\n",
        "                x1, y1 = p2\n",
        "                end_of_staff.append((x0, y0, x1, y1))\n",
        "\n",
        "        box_centers = []\n",
        "        spacing_between_staff_blocks = []\n",
        "        for i in range(len(end_of_staff)-1):\n",
        "            spacing_between_staff_blocks.append(\n",
        "                end_of_staff[i+1][1] - end_of_staff[i][1])\n",
        "            if i % 2 == 0:\n",
        "                offset = (end_of_staff[i+1][1] - end_of_staff[i][1])//2\n",
        "                center = end_of_staff[i][1] + offset\n",
        "                box_centers.append((center, offset))\n",
        "\n",
        "        max_staff_dist = np.max(spacing_between_staff_blocks)\n",
        "        max_margin = max_staff_dist // 2\n",
        "        margin = max_staff_dist // 10\n",
        "\n",
        "        end_points = []\n",
        "        regions_without_staff = []\n",
        "        regions_with_staff = []\n",
        "        for index, (center, offset) in enumerate(box_centers):\n",
        "            y0 = int(center) - max_margin - offset + margin\n",
        "            y1 = int(center) + max_margin + offset - margin\n",
        "            end_points.append((y0, y1))\n",
        "\n",
        "            region = self.bin_img[y0:y1, 0:self.bin_img.shape[1]]\n",
        "            regions_with_staff.append(region)\n",
        "            staff_block = self.no_staff_img[y0:y1,\n",
        "                                            0:self.no_staff_img.shape[1]]\n",
        "\n",
        "            regions_without_staff.append(self.open_region(staff_block))\n",
        "\n",
        "        self.regions_without_staff = regions_without_staff\n",
        "        self.regions_with_staff = regions_with_staff"
      ],
      "metadata": {
        "id": "LpVOm3PMKL2S"
      },
      "execution_count": null,
      "outputs": []
    },
    {
      "cell_type": "markdown",
      "source": [
        "### preprocessing.py"
      ],
      "metadata": {
        "id": "6pKlxi9jJDuC"
      }
    },
    {
      "cell_type": "code",
      "source": [
        "from skimage.transform import probabilistic_hough_line, hough_line, rotate, hough_line_peaks\n",
        "from skimage.feature import corner_harris\n",
        "import cv2\n",
        "\n",
        "def deskew(image):\n",
        "    edges = canny(image, low_threshold=50, high_threshold=150, sigma=2)\n",
        "    harris = corner_harris(edges)\n",
        "    tested_angles = np.linspace(-np.pi / 2, np.pi / 2, 360)\n",
        "    h, theta, d = hough_line(harris, theta=tested_angles)\n",
        "    out, angles, d = hough_line_peaks(h, theta, d)\n",
        "    rotation_number = np.average(np.degrees(angles))\n",
        "    if rotation_number < 45 and rotation_number != 0:\n",
        "        rotation_number += 90\n",
        "    return rotation_number\n",
        "\n",
        "\n",
        "def rotation(img, angle):\n",
        "    image = rotate(img, angle, resize=True, mode='edge')\n",
        "    return image\n",
        "\n",
        "\n",
        "def get_closer(img):\n",
        "    rows = []\n",
        "    cols = []\n",
        "    for x in range(16):\n",
        "        no = 0\n",
        "        for col in range(x*img.shape[0]//16, (x+1)*img.shape[0]//16):\n",
        "            for row in range(img.shape[1]):\n",
        "                if img[col][row] == 0:\n",
        "                    no += 1\n",
        "        if no >= 0.01*img.shape[1]*img.shape[0]//16:\n",
        "            rows.append(x*img.shape[0]//16)\n",
        "    for x in range(16):\n",
        "        no = 0\n",
        "        for row in range(x*img.shape[1]//16, (x+1)*img.shape[1]//16):\n",
        "            for col in range(img.shape[0]):\n",
        "                if img[col][row] == 0:\n",
        "                    no += 1\n",
        "        if no >= 0.01*img.shape[0]*img.shape[1]//16:\n",
        "            cols.append(x*img.shape[1]//16)\n",
        "    new_img = img[rows[0]:min(img.shape[0], rows[-1]+img.shape[0]//16),\n",
        "                  cols[0]:min(img.shape[1], cols[-1]+img.shape[1]//16)]\n",
        "    return new_img\n",
        "\n",
        "\n",
        "def IsHorizontal(img):\n",
        "    projected = []\n",
        "    rows, cols = img.shape\n",
        "    for i in range(rows):\n",
        "        proj_sum = 0\n",
        "        for j in range(cols):\n",
        "            if img[i][j] == 0:\n",
        "                proj_sum += 1\n",
        "        projected.append([1]*proj_sum + [0]*(cols-proj_sum))\n",
        "        if(proj_sum >= 0.9*cols):\n",
        "            return True\n",
        "    return False"
      ],
      "metadata": {
        "id": "TYRUopSgJD0S"
      },
      "execution_count": null,
      "outputs": []
    },
    {
      "cell_type": "markdown",
      "source": [
        "## Code to carry out Preprocessing, Segmentation and Prediction"
      ],
      "metadata": {
        "id": "pV8DVz93KYXA"
      }
    },
    {
      "cell_type": "code",
      "source": [
        "from google.colab import drive\n",
        "drive.mount('/content/drive')"
      ],
      "metadata": {
        "colab": {
          "base_uri": "https://localhost:8080/"
        },
        "id": "sEGGQOrJ9pQ4",
        "outputId": "e6b8b938-02cd-44b1-d139-826e2058b2b0"
      },
      "execution_count": null,
      "outputs": [
        {
          "output_type": "stream",
          "name": "stdout",
          "text": [
            "Mounted at /content/drive\n"
          ]
        }
      ]
    },
    {
      "cell_type": "code",
      "source": [
        "img_name = '02.PNG'\n",
        "model_name = 'drive/My Drive/mozart/VGG16_Model.h5'"
      ],
      "metadata": {
        "id": "JF-k05BCqnOp"
      },
      "execution_count": null,
      "outputs": []
    },
    {
      "cell_type": "code",
      "source": [
        "from tensorflow import keras\n",
        "\n",
        "# load keras model\n",
        "model=keras.models.load_model(model_name)"
      ],
      "metadata": {
        "id": "Bpdsfip1F1cm"
      },
      "execution_count": null,
      "outputs": []
    },
    {
      "cell_type": "code",
      "source": [
        "! ls"
      ],
      "metadata": {
        "colab": {
          "base_uri": "https://localhost:8080/"
        },
        "id": "meI5Bf-cBrZ2",
        "outputId": "fef9c327-9523-4894-f5c8-a2cd90973202"
      },
      "execution_count": null,
      "outputs": [
        {
          "output_type": "stream",
          "name": "stdout",
          "text": [
            "01.PNG\t03.PNG\t05.PNG\t07.PNG\t09.PNG\tdrive\n",
            "02.PNG\t04.PNG\t06.PNG\t08.PNG\t10.PNG\tsample_data\n"
          ]
        }
      ]
    },
    {
      "cell_type": "code",
      "source": [
        "\"\"\"\n",
        "Read the Image to be recognized and preprocess the image using the preprocessing techniques used when the model was built.\n",
        "\"\"\"\n",
        "img = io.imread(img_name)\n",
        "img = gray_img(img)\n",
        "show_images([img])\n",
        "# img = get_thresholded(img, threshold_otsu(img))\n",
        "horizontal = IsHorizontal(img)\n",
        "if horizontal == False:\n",
        "    theta = deskew(img)\n",
        "    img = rotation(img,theta)\n",
        "    img = get_gray(img)\n",
        "    img = get_thresholded(img, threshold_otsu(img))\n",
        "    img = get_closer(img)\n",
        "    horizontal = IsHorizontal(img)\n",
        "show_images([img])\n",
        "\n",
        "#img = io.imread('testcases/test-set-scanned/test-cases/02.PNG')\n",
        "print(img.shape)\n",
        "# if img.shape[1] < 1300:\n",
        "#     img = resize(img, (img.shape[0], 2000))\n",
        "# if img.shape[0] > 250:\n",
        "#     img = resize(img, (250, img.shape[1]))\n",
        "# print(img.shape)\n",
        "original = img.copy()\n",
        "gray = get_gray(img)\n",
        "bin_img = get_thresholded(gray, threshold_otsu(gray))\n",
        "show_images([gray, bin_img], ['Gray', 'Binary'])"
      ],
      "metadata": {
        "id": "YUqmHt4UquXC",
        "colab": {
          "base_uri": "https://localhost:8080/",
          "height": 494
        },
        "outputId": "1a6d4952-8271-4d69-9bcb-bd9f4aad1abc"
      },
      "execution_count": null,
      "outputs": [
        {
          "output_type": "stream",
          "name": "stderr",
          "text": [
            "/usr/local/lib/python3.7/dist-packages/ipykernel_launcher.py:43: FutureWarning: Non RGB image conversion is now deprecated. For RGBA images, please use rgb2gray(rgba2rgb(rgb)) instead. In version 0.19, a ValueError will be raised if input image last dimension length is not 3.\n"
          ]
        },
        {
          "output_type": "display_data",
          "data": {
            "text/plain": [
              "<Figure size 432x288 with 1 Axes>"
            ],
            "image/png": "[encoded data removed]"
          },
          "metadata": {
            "needs_background": "light"
          }
        },
        {
          "output_type": "display_data",
          "data": {
            "text/plain": [
              "<Figure size 432x288 with 1 Axes>"
            ],
            "image/png": "[encoded data removed]"
          },
          "metadata": {
            "needs_background": "light"
          }
        },
        {
          "output_type": "stream",
          "name": "stdout",
          "text": [
            "(509, 1583)\n"
          ]
        },
        {
          "output_type": "stream",
          "name": "stderr",
          "text": [
            "/usr/local/lib/python3.7/dist-packages/ipykernel_launcher.py:61: FutureWarning: The behavior of rgb2gray will change in scikit-image 0.19. Currently, rgb2gray allows 2D grayscale image to be passed as inputs and leaves them unmodified as outputs. Starting from version 0.19, 2D arrays will be treated as 1D images with 3 channels.\n"
          ]
        },
        {
          "output_type": "display_data",
          "data": {
            "text/plain": [
              "<Figure size 864x576 with 2 Axes>"
            ],
            "image/png": "[encoded data removed]"
          },
          "metadata": {
            "needs_background": "light"
          }
        }
      ]
    },
    {
      "cell_type": "code",
      "source": [
        "\"\"\"\n",
        "Segment images into specific regions based on the notes.\n",
        "\"\"\"\n",
        "segmenter = Segmenter(bin_img)\n",
        "imgs_with_staff = segmenter.regions_with_staff\n",
        "imgs_without_staff = segmenter.regions_without_staff\n",
        "\n",
        "for i, img in enumerate(imgs_without_staff):\n",
        "    show_images([img, imgs_with_staff[i]])"
      ],
      "metadata": {
        "id": "iZ4W4aIwq4aU",
        "colab": {
          "base_uri": "https://localhost:8080/",
          "height": 197
        },
        "outputId": "64aa66a6-8dd6-4176-9b74-2d96536d0510"
      },
      "execution_count": null,
      "outputs": [
        {
          "output_type": "display_data",
          "data": {
            "text/plain": [
              "<Figure size 864x576 with 2 Axes>"
            ],
            "image/png": "[encoded data removed]"
          },
          "metadata": {
            "needs_background": "light"
          }
        },
        {
          "output_type": "display_data",
          "data": {
            "text/plain": [
              "<Figure size 864x576 with 2 Axes>"
            ],
            "image/png": "[encoded data removed]"
          },
          "metadata": {
            "needs_background": "light"
          }
        },
        {
          "output_type": "display_data",
          "data": {
            "text/plain": [
              "<Figure size 864x576 with 2 Axes>"
            ],
            "image/png": "[encoded data removed]"
          },
          "metadata": {
            "needs_background": "light"
          }
        }
      ]
    },
    {
      "cell_type": "code",
      "source": [
        "\"\"\"\n",
        "Store Coordinates for all the music notes in the images. This can be used later to identify the positions of the music notes.\n",
        "\"\"\"\n",
        "imgs_spacing = []\n",
        "imgs_rows = []\n",
        "coord_imgs = []\n",
        "for i, img in enumerate(imgs_with_staff):\n",
        "    spacing, rows, no_staff_img = coordinator(img,horizontal)\n",
        "    imgs_rows.append(rows)\n",
        "    imgs_spacing.append(spacing)\n",
        "    coord_imgs.append(no_staff_img)"
      ],
      "metadata": {
        "id": "cnRyGR4Rr4-v"
      },
      "execution_count": null,
      "outputs": []
    },
    {
      "cell_type": "code",
      "source": [
        "\"\"\"\n",
        "Draw Staff on the Binary Images and save these images\n",
        "\"\"\"\n",
        "def draw_staff(img,row_positions):\n",
        "    image = np.copy(img)\n",
        "    for x in range (len(row_positions)):\n",
        "        print(int(row_positions[x]))\n",
        "        image[int(row_positions[x]),:] = 0\n",
        "    return image\n",
        "\n",
        "for i, img in enumerate(coord_imgs):\n",
        "    new_img = draw_staff(img,imgs_rows[i])\n",
        "    show_images([img,new_img], ['Binary','new'])  \n",
        "    cv2.imwrite(f'{img_name}_without_staff_{i}.png', np.array(255*img).astype(np.uint8))\n",
        "    cv2.imwrite(f'{img_name}_with_new_staff_{i}.png', np.array(255*new_img).astype(np.uint8))"
      ],
      "metadata": {
        "id": "EFunv7gwr8cY",
        "colab": {
          "base_uri": "https://localhost:8080/",
          "height": 572
        },
        "outputId": "ab24f539-821b-4c6d-d065-670b6228ec28"
      },
      "execution_count": null,
      "outputs": [
        {
          "output_type": "stream",
          "name": "stdout",
          "text": [
            "22\n",
            "41\n",
            "60\n",
            "79\n",
            "98\n",
            "117\n",
            "136\n"
          ]
        },
        {
          "output_type": "display_data",
          "data": {
            "text/plain": [
              "<Figure size 864x576 with 2 Axes>"
            ],
            "image/png": "[encoded data removed]"
          },
          "metadata": {
            "needs_background": "light"
          }
        },
        {
          "output_type": "stream",
          "name": "stdout",
          "text": [
            "22\n",
            "41\n",
            "60\n",
            "79\n",
            "98\n",
            "117\n",
            "136\n"
          ]
        },
        {
          "output_type": "display_data",
          "data": {
            "text/plain": [
              "<Figure size 864x576 with 2 Axes>"
            ],
            "image/png": "[encoded data removed]"
          },
          "metadata": {
            "needs_background": "light"
          }
        },
        {
          "output_type": "stream",
          "name": "stdout",
          "text": [
            "22\n",
            "41\n",
            "60\n",
            "79\n",
            "98\n",
            "117\n",
            "136\n"
          ]
        },
        {
          "output_type": "display_data",
          "data": {
            "text/plain": [
              "<Figure size 864x576 with 2 Axes>"
            ],
            "image/png": "[encoded data removed]"
          },
          "metadata": {
            "needs_background": "light"
          }
        }
      ]
    },
    {
      "cell_type": "code",
      "source": [
        "\"\"\"\n",
        "Perform the CLassification based on the input music sheet or sheets\n",
        "\"\"\"\n",
        "from sklearn.preprocessing import LabelBinarizer\n",
        "\n",
        "label_names=['Thirty-Two-Rest', 'Sixteenth-Note', 'Dot', 'Cut-Time', 'Quarter-Note', 'Stopped', 'Fermata', '4-8-Time', '7-4-Time', 'Sharp', 'Whole-Half-Rest', '9-8-Time', 'Thirty-Two-Note', '8-8-Time', '2-4-Time', 'Staccatissimo', 'C-Clef', 'G-Clef', 'Turn', 'Half-Note', '12-8-Time', 'Double-Whole-Rest', 'Quarter-Rest', 'Multiple-Quarter-Notes', 'Other', 'Eighth-Rest', '6-4-Time', 'Chord', '5-8-Time', 'Tie-Slur', 'Whole-Note', '4-2-Time', '2-8-Time', 'Mordent', 'Flat', 'Eighth-Note', 'Natural', 'Barline', '3-4-Time', 'Accent', 'Tenuto', 'Tuplet', 'Eighth-Grace-Note', 'Glissando', 'Common-Time', '5-4-Time', 'Multiple-Half-Notes', 'F-Clef', 'Sixteenth-Rest', 'Multiple-Sixteenth-Notes', 'Beam', '4-4-Time', '3-8-Time', 'Multiple-Eighth-Notes', 'Sixty-Four-Note', '6-8-Time', 'Sixty-Four-Rest', 'Marcato', 'Breve', '1-8-Time']\n",
        "label_names=sorted(label_names)\n",
        "\n",
        "disk_size = segmenter.most_common / 4\n",
        "print(len(coord_imgs))\n",
        "# Iterate through the previously identified coordinates within the images\n",
        "for i, img in enumerate(coord_imgs):\n",
        "    show_images([img])\n",
        "    res = []\n",
        "    prev = ''\n",
        "    time_name = ''\n",
        "    # Pass the individual image of a line of music notes - One single image to get the Primitives, Primitives with Staff and Boundary\n",
        "    # Boundary to indicate where a note begins and ends. Primitives are each music note.\n",
        "    primitives, prim_with_staff, boundary = get_connected_components(img, imgs_with_staff[i])\n",
        "    detected = cv2.cvtColor(np.array(255*img.copy()).astype('float32'),cv2.COLOR_GRAY2RGB)\n",
        "    # Iterate through the primitives that was identified in a single line of music notes.\n",
        "    for j, prim in enumerate(primitives):\n",
        "        minr, minc, maxr, maxc = boundary[j]\n",
        "\n",
        "        # Binary masking on the primitive image of a single music note post segmentation\n",
        "        prim = binary_opening(prim, square(segmenter.most_common-imgs_spacing[i]))\n",
        "        # Resize to 32*32\n",
        "        prim = resize(prim, (32,32))\n",
        "        # Transform to Float 32 and inverse color\n",
        "        saved_img = (255*(1 - prim)).astype('float32')\n",
        "        # Convert from Gray to RGB - Model expects image in 3 Dims (32,32,3)\n",
        "        saved_img=cv2.cvtColor(saved_img, cv2.COLOR_GRAY2RGB)\n",
        "        \n",
        "        # Predict the label of the image using Keras Model\n",
        "        saved_img=np.expand_dims(saved_img, axis=0) # Expand Dims - Model Expects input as 4 Dim\n",
        "        # Store IMage in list\n",
        "        images=[]\n",
        "        images.append(saved_img)\n",
        "        # Get Prediction\n",
        "        predictions = model.predict(images)\n",
        "        print(np.argmax(predictions))\n",
        "\n",
        "        # Find Label based on Prediction\n",
        "        print(label_names[np.argmax(predictions)])\n",
        "        res.append(label_names[np.argmax(predictions)])\n",
        "\n",
        "        # Draw the boxes for each detected music note and it's position\n",
        "        cv2.rectangle(detected, (minc, minr), (maxc, maxr), (0, 0, 255), 2)\n",
        "        # Add Text (Label) for each Music Note in the image\n",
        "        cv2.putText(detected, label_names[np.argmax(predictions)], (minc-2, minr-2), cv2.FONT_HERSHEY_SIMPLEX, 0.9, (0, 0, 255), 2)\n",
        "\n",
        "    show_images([detected], ['Detected']) # Display Music Note\n",
        "    cv2.imwrite(f'detected_{i}.png', detected) # Store Music Note\n",
        "    \n",
        "# Final Result\n",
        "print(' '.join(res))"
      ],
      "metadata": {
        "colab": {
          "base_uri": "https://localhost:8080/",
          "height": 1000
        },
        "id": "VhmH2i4ZNRgD",
        "outputId": "9c00ae9f-3929-4d7a-edb0-15bc977df98f"
      },
      "execution_count": null,
      "outputs": [
        {
          "output_type": "stream",
          "name": "stdout",
          "text": [
            "3\n"
          ]
        },
        {
          "output_type": "display_data",
          "data": {
            "text/plain": [
              "<Figure size 432x288 with 1 Axes>"
            ],
            "image/png": "[encoded data removed]"
          },
          "metadata": {
            "needs_background": "light"
          }
        },
        {
          "output_type": "stream",
          "name": "stdout",
          "text": [
            "42\n",
            "Other\n",
            "18\n",
            "Beam\n",
            "42\n",
            "Other\n",
            "42\n",
            "Other\n",
            "42\n",
            "Other\n",
            "43\n",
            "Quarter-Note\n",
            "42\n",
            "Other\n",
            "39\n",
            "Multiple-Quarter-Notes\n",
            "27\n",
            "Eighth-Note\n",
            "27\n",
            "Eighth-Note\n",
            "42\n",
            "Other\n",
            "39\n",
            "Multiple-Quarter-Notes\n",
            "43\n",
            "Quarter-Note\n",
            "42\n",
            "Other\n",
            "42\n",
            "Other\n",
            "42\n",
            "Other\n",
            "42\n",
            "Other\n",
            "18\n",
            "Beam\n"
          ]
        },
        {
          "output_type": "stream",
          "name": "stderr",
          "text": [
            "Clipping input data to the valid range for imshow with RGB data ([0..1] for floats or [0..255] for integers).\n"
          ]
        },
        {
          "output_type": "stream",
          "name": "stdout",
          "text": [
            "17\n",
            "Barline\n"
          ]
        },
        {
          "output_type": "display_data",
          "data": {
            "text/plain": [
              "<Figure size 432x288 with 1 Axes>"
            ],
            "image/png": "[encoded data removed]"
          },
          "metadata": {
            "needs_background": "light"
          }
        },
        {
          "output_type": "display_data",
          "data": {
            "text/plain": [
              "<Figure size 432x288 with 1 Axes>"
            ],
            "image/png": "[encoded data removed]"
          },
          "metadata": {
            "needs_background": "light"
          }
        },
        {
          "output_type": "stream",
          "name": "stdout",
          "text": [
            "44\n",
            "Quarter-Rest\n",
            "18\n",
            "Beam\n",
            "42\n",
            "Other\n",
            "42\n",
            "Other\n",
            "42\n",
            "Other\n",
            "43\n",
            "Quarter-Note\n",
            "42\n",
            "Other\n",
            "42\n",
            "Other\n",
            "42\n",
            "Other\n",
            "39\n",
            "Multiple-Quarter-Notes\n",
            "43\n",
            "Quarter-Note\n",
            "43\n",
            "Quarter-Note\n",
            "27\n",
            "Eighth-Note\n",
            "42\n",
            "Other\n",
            "18\n",
            "Beam\n"
          ]
        },
        {
          "output_type": "stream",
          "name": "stderr",
          "text": [
            "Clipping input data to the valid range for imshow with RGB data ([0..1] for floats or [0..255] for integers).\n"
          ]
        },
        {
          "output_type": "stream",
          "name": "stdout",
          "text": [
            "18\n",
            "Beam\n"
          ]
        },
        {
          "output_type": "display_data",
          "data": {
            "text/plain": [
              "<Figure size 432x288 with 1 Axes>"
            ],
            "image/png": "[encoded data removed]"
          },
          "metadata": {
            "needs_background": "light"
          }
        },
        {
          "output_type": "display_data",
          "data": {
            "text/plain": [
              "<Figure size 432x288 with 1 Axes>"
            ],
            "image/png": "[encoded data removed]"
          },
          "metadata": {
            "needs_background": "light"
          }
        },
        {
          "output_type": "stream",
          "name": "stdout",
          "text": [
            "42\n",
            "Other\n",
            "18\n",
            "Beam\n",
            "32\n",
            "G-Clef\n",
            "42\n",
            "Other\n",
            "42\n",
            "Other\n",
            "24\n",
            "Dot\n",
            "43\n",
            "Quarter-Note\n",
            "24\n",
            "Dot\n",
            "43\n",
            "Quarter-Note\n",
            "43\n",
            "Quarter-Note\n",
            "42\n",
            "Other\n",
            "43\n",
            "Quarter-Note\n",
            "18\n",
            "Beam\n",
            "43\n",
            "Quarter-Note\n",
            "24\n",
            "Dot\n",
            "43\n",
            "Quarter-Note\n"
          ]
        },
        {
          "output_type": "stream",
          "name": "stderr",
          "text": [
            "Clipping input data to the valid range for imshow with RGB data ([0..1] for floats or [0..255] for integers).\n"
          ]
        },
        {
          "output_type": "stream",
          "name": "stdout",
          "text": [
            "18\n",
            "Beam\n",
            "17\n",
            "Barline\n"
          ]
        },
        {
          "output_type": "display_data",
          "data": {
            "text/plain": [
              "<Figure size 432x288 with 1 Axes>"
            ],
            "image/png": "[encoded data removed]"
          },
          "metadata": {
            "needs_background": "light"
          }
        },
        {
          "output_type": "stream",
          "name": "stdout",
          "text": [
            "Other Beam G-Clef Other Other Dot Quarter-Note Dot Quarter-Note Quarter-Note Other Quarter-Note Beam Quarter-Note Dot Quarter-Note Beam Barline\n"
          ]
        }
      ]
    },
    {
      "cell_type": "markdown",
      "source": [
        "##### Old Approach"
      ],
      "metadata": {
        "id": "KLcR-z-oNy2K"
      }
    },
    {
      "cell_type": "code",
      "source": [
        "\"\"\"\n",
        "\n",
        "\"\"\"\n",
        "black_names = ['4', '8', '8_b_n', '8_b_r', '16', '16_b_n', '16_b_r', '32', '32_b_n', '32_b_r', 'a_4', 'a_8', 'a_16', 'a_32', 'chord']\n",
        "ring_names = ['2', 'a_2']\n",
        "whole_names = ['1', 'a_1']\n",
        "label_names=['1-8-Time', '5-4-Time', '7-4-Time', '2-8-Time', '4-8-Time', '8-8-Time', 'Multiple-Sixteenth-Notes', 'Marcato', 'Stopped', 'Quarter-Rest', 'Thirty-Two-Note', 'Sixteenth-Rest', 'F-Clef', '5-8-Time', 'Multiple-Quarter-Notes', 'Sixteenth-Note', '4-4-Time', 'Fermata', 'Multiple-Eighth-Notes', '12-8-Time', '6-8-Time', 'Staccatissimo', '9-8-Time', 'Glissando', 'Barline', 'Half-Note', 'Tie-Slur', 'C-Clef', 'Flat', 'Common-Time', 'Double-Whole-Rest', 'Sixty-Four-Note', 'G-Clef', 'Dot', 'Tenuto', 'Whole-Half-Rest', 'Thirty-Two-Rest', 'Eighth-Note', 'Natural', 'Eighth-Rest', 'Whole-Note', 'Accent', 'Sharp', '2-4-Time', 'Cut-Time', 'Sixty-Four-Rest', 'Mordent', '4-2-Time', 'Chord', 'Quarter-Note', '3-8-Time', 'Eighth-Grace-Note', '3-4-Time', 'Beam', 'Breve', 'Tuplet', '6-4-Time', 'Turn', 'Other', 'Multiple-Half-Notes']\n",
        "label_nums=[4, 28, 18, 24, 2, 12, 170, 156, 170, 1178, 284, 648, 598, 26, 486, 84, 38, 204, 192, 4, 40, 232, 10, 190, 94, 1346, 932, 678, 1944, 510, 212, 150, 1620, 880, 184, 246, 454, 916, 2190, 1410, 550, 840, 2386, 80, 456, 274, 172, 12, 236, 1826, 54, 28, 164, 2702, 52, 146, 8, 162, 1604, 50]\n",
        "\n",
        "disk_size = segmenter.most_common / 4\n",
        "print(len(coord_imgs))\n",
        "for i, img in enumerate(coord_imgs):\n",
        "    show_images([img])\n",
        "    res = []\n",
        "    prev = ''\n",
        "    time_name = ''\n",
        "    primitives, prim_with_staff, boundary = get_connected_components(img, imgs_with_staff[i])\n",
        "    print(boundary)  \n",
        "    detected = cv2.cvtColor(np.array(255*img.copy()).astype(np.uint8),cv2.COLOR_GRAY2RGB)\n",
        "    for j, prim in enumerate(primitives):\n",
        "        minr, minc, maxr, maxc = boundary[j]\n",
        "\n",
        "        prim = binary_opening(prim, square(segmenter.most_common-imgs_spacing[i]))\n",
        "        saved_img = (255*(1 - prim)).astype(np.uint8)\n",
        "\n",
        "        # Predict the label of the image using Keras Model\n",
        "        predictions = model.predict(saved_img)\n",
        "        labels = predict(saved_img)\n",
        "        octave = None\n",
        "        label = labels[0]\n",
        "\n",
        "        cv2.rectangle(detected, (minc, minr), (maxc, maxr), (0, 0, 255), 2)\n",
        "        cv2.putText(detected, label, (minc-2, minr-2), cv2.FONT_HERSHEY_SIMPLEX, 0.9, (0, 0, 255), 2)\n",
        "\n",
        "        if label in black_names:\n",
        "            test_img = np.copy(prim_with_staff[j])\n",
        "            test_img = binary_dilation(test_img, disk(disk_size))\n",
        "            show_images([prim_with_staff[j], test_img], ['Original', 'Connected Component with staff'])\n",
        "            comps, comp_w_staff, bounds = get_connected_components(test_img, prim_with_staff[j])\n",
        "            comps, comp_w_staff, bounds = filter_beams(comps, comp_w_staff, bounds)\n",
        "            bounds = [np.array(bound)+disk_size-2 for bound in bounds]\n",
        "\n",
        "            if len(bounds) > 1 and label not in ['8_b_n', '8_b_r', '16_b_n', '16_b_r', '32_b_n', '32_b_r']:\n",
        "                l_res = []\n",
        "                bounds = sorted(bounds, key= lambda b : -b[2])\n",
        "                for k in range(len(bounds)):\n",
        "                    print(\"Bound\")\n",
        "                    idx, p = estim(boundary[j][0]+bounds[k][2], i)\n",
        "                    l_res.append(f'{label_map[idx][p]}/4')\n",
        "                    if k+1 < len(bounds) and (bounds[k][2]-bounds[k+1][2]) > 1.5*imgs_spacing[i]:\n",
        "                        print(\"IF COND\", bounds[k][2]-bounds[k+1][2], 1.25*imgs_spacing[i])\n",
        "                        idx, p = estim(boundary[j][0]+bounds[k][2]-imgs_spacing[i]/2, i)\n",
        "                        l_res.append(f'{label_map[idx][p]}/4')\n",
        "                res.append(sorted(l_res))\n",
        "            else:\n",
        "                for bbox in bounds:\n",
        "                    c = bbox[2]+boundary[j][0]\n",
        "                    line_idx, p = estim(int(c), i)\n",
        "                    l = label_map[line_idx][p]\n",
        "                    res.append(get_note_name(prev, l, label))\n",
        "                    print(c)\n",
        "                    print(l)\n",
        "        elif label in ring_names:\n",
        "            head_img = 1-binary_fill_holes(1-prim)\n",
        "            head_img = binary_closing(head_img, disk(disk_size))\n",
        "            comps, comp_w_staff, bounds = get_connected_components(head_img, prim_with_staff[j])\n",
        "            for bbox in bounds:\n",
        "                c = bbox[2]+boundary[j][0]\n",
        "                line_idx, p = estim(int(c), i)\n",
        "                l = label_map[line_idx][p]\n",
        "                res.append(get_note_name(prev, l, label))\n",
        "                print(c)\n",
        "                print(l)\n",
        "        elif label in whole_names:\n",
        "            c = boundary[j][2]\n",
        "            line_idx, p = estim(int(c), i)\n",
        "            l = label_map[line_idx][p]\n",
        "            res.append(get_note_name(prev, l, label))\n",
        "            print(c)\n",
        "            print(l)\n",
        "        elif label in ['bar', 'bar_b', 'clef', 'clef_b', 'natural', 'natural_b'] or label in []:\n",
        "            show_images([prim], [label])\n",
        "            continue\n",
        "        elif label in ['#', '#_b']:\n",
        "            if prim.shape[0] == prim.shape [1]:\n",
        "                prev = '##'\n",
        "            else: \n",
        "                prev = '#'\n",
        "        elif label in ['cross']:\n",
        "            prev = '##'\n",
        "        elif label in ['flat', 'flat_b']:\n",
        "            if prim.shape[1] >= 0.5*prim.shape[0]:\n",
        "                prev = '&&'\n",
        "            else:\n",
        "                prev = '&'\n",
        "        elif label in ['dot', 'dot_b', 'p', 't24_b']:\n",
        "            if len(res) == 0 or (len(res) > 0 and res[-1] in ['flat', 'flat_b', 'cross', '#', '#_b', 't24', 't24_b', 't44', 't44_b']):\n",
        "                continue\n",
        "            res[-1] += '.'\n",
        "        elif label in ['t2', 't4']:\n",
        "            time_name += label[1]\n",
        "        elif label in []:\n",
        "            time_name = label[1]+label[2]\n",
        "        elif label == 'chord':\n",
        "            print('Chord')\n",
        "            img = thin(1-prim.copy(), max_iter=20)\n",
        "            head_img = binary_closing(1-img, disk(disk_size))\n",
        "        if label not in ['flat', 'flat_b', 'cross', '#', '#_b']:\n",
        "            prev = ''\n",
        "        show_images([prim], [label])\n",
        "        if len(time_name) == 2:\n",
        "            res = [\"\\\\\" + \"meter<\\\"\" + str(time_name[0]) + \"/\" + str(time_name[1])+\"\\\">\"] + res\n",
        "    print(res) \n",
        "    show_images([detected], ['Detected'])\n",
        "    cv2.imwrite(f'{img_name}_detected_{i}.png', detected)"
      ],
      "metadata": {
        "id": "I2OfscTDsyLY"
      },
      "execution_count": null,
      "outputs": []
    }
  ]
}